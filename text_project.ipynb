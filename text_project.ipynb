{
 "cells": [
  {
   "cell_type": "markdown",
   "metadata": {},
   "source": [
    "# Проект для «Викишоп»"
   ]
  },
  {
   "cell_type": "markdown",
   "metadata": {},
   "source": [
    "**Описание**\n",
    "\n",
    "Интернет-магазин «Викишоп» запускает новый сервис. Теперь пользователи могут разрешить и дополнить описание товаров, как в вики-сообществах. То есть клиенты предлагают свои правки и комментируют изменения других. Магазину нужен инструмент, который будет искать острыее комментарии и отправлять их на модерацию.\n",
    "\n",
    "**Задача:**\n",
    "\n",
    "Обучить модель классифицировать комментарии на позитивные и негативные. Необходимо построить модель со значением метрики качества F1 не меньше 0,75.\n",
    "\n",
    "В наличии набор данных с разметкой о токсичности правок."
   ]
  },
  {
   "cell_type": "markdown",
   "metadata": {},
   "source": [
    "## Подготовка"
   ]
  },
  {
   "cell_type": "code",
   "execution_count": 1,
   "metadata": {},
   "outputs": [
    {
     "name": "stdout",
     "output_type": "stream",
     "text": [
      "Requirement already satisfied: nltk in /opt/conda/lib/python3.9/site-packages (3.6.1)\n",
      "Requirement already satisfied: regex in /opt/conda/lib/python3.9/site-packages (from nltk) (2022.8.17)\n",
      "Requirement already satisfied: tqdm in /opt/conda/lib/python3.9/site-packages (from nltk) (4.61.2)\n",
      "Requirement already satisfied: joblib in /opt/conda/lib/python3.9/site-packages (from nltk) (1.1.0)\n",
      "Requirement already satisfied: click in /opt/conda/lib/python3.9/site-packages (from nltk) (8.1.3)\n",
      "Note: you may need to restart the kernel to use updated packages.\n"
     ]
    }
   ],
   "source": [
    "pip install nltk\n"
   ]
  },
  {
   "cell_type": "code",
   "execution_count": 2,
   "metadata": {},
   "outputs": [
    {
     "name": "stderr",
     "output_type": "stream",
     "text": [
      "[nltk_data] Downloading package punkt to /home/jovyan/nltk_data...\n",
      "[nltk_data]   Package punkt is already up-to-date!\n",
      "[nltk_data] Downloading package averaged_perceptron_tagger to\n",
      "[nltk_data]     /home/jovyan/nltk_data...\n",
      "[nltk_data]   Package averaged_perceptron_tagger is already up-to-\n",
      "[nltk_data]       date!\n"
     ]
    }
   ],
   "source": [
    "#импортируем необходимые библиотеки\n",
    "\n",
    "import pandas as pd\n",
    "import numpy as np\n",
    "import re\n",
    "from tqdm import tqdm\n",
    "import nltk \n",
    "nltk.download('punkt')\n",
    "nltk.download('averaged_perceptron_tagger')\n",
    "from nltk.stem import WordNetLemmatizer \n",
    "from nltk.corpus import stopwords as nltk_stopwords\n",
    "from sklearn.feature_extraction.text import TfidfVectorizer \n",
    "from sklearn.model_selection import train_test_split\n",
    "from sklearn.model_selection import GridSearchCV \n",
    "from sklearn.linear_model import LogisticRegression\n",
    "from sklearn.ensemble import RandomForestClassifier\n",
    "from catboost import CatBoostClassifier\n",
    "from sklearn.model_selection import TimeSeriesSplit\n",
    "from sklearn.model_selection import cross_val_score\n",
    "from sklearn.model_selection import RandomizedSearchCV\n",
    "from sklearn.pipeline import Pipeline\n",
    "import matplotlib.pyplot as plt\n",
    "from sklearn.metrics import f1_score\n",
    "from nltk.corpus import wordnet\n",
    "tscv = TimeSeriesSplit(n_splits=5)\n"
   ]
  },
  {
   "cell_type": "code",
   "execution_count": 3,
   "metadata": {},
   "outputs": [],
   "source": [
    "#откроем датасет\n",
    "df_toxic = pd.read_csv('/datasets/toxic_comments.csv', index_col=[0], parse_dates=[0])"
   ]
  },
  {
   "cell_type": "code",
   "execution_count": 4,
   "metadata": {},
   "outputs": [
    {
     "data": {
      "text/html": [
       "<div>\n",
       "<style scoped>\n",
       "    .dataframe tbody tr th:only-of-type {\n",
       "        vertical-align: middle;\n",
       "    }\n",
       "\n",
       "    .dataframe tbody tr th {\n",
       "        vertical-align: top;\n",
       "    }\n",
       "\n",
       "    .dataframe thead th {\n",
       "        text-align: right;\n",
       "    }\n",
       "</style>\n",
       "<table border=\"1\" class=\"dataframe\">\n",
       "  <thead>\n",
       "    <tr style=\"text-align: right;\">\n",
       "      <th></th>\n",
       "      <th>text</th>\n",
       "      <th>toxic</th>\n",
       "    </tr>\n",
       "  </thead>\n",
       "  <tbody>\n",
       "    <tr>\n",
       "      <th>0</th>\n",
       "      <td>Explanation\\nWhy the edits made under my usern...</td>\n",
       "      <td>0</td>\n",
       "    </tr>\n",
       "    <tr>\n",
       "      <th>1</th>\n",
       "      <td>D'aww! He matches this background colour I'm s...</td>\n",
       "      <td>0</td>\n",
       "    </tr>\n",
       "    <tr>\n",
       "      <th>2</th>\n",
       "      <td>Hey man, I'm really not trying to edit war. It...</td>\n",
       "      <td>0</td>\n",
       "    </tr>\n",
       "    <tr>\n",
       "      <th>3</th>\n",
       "      <td>\"\\nMore\\nI can't make any real suggestions on ...</td>\n",
       "      <td>0</td>\n",
       "    </tr>\n",
       "    <tr>\n",
       "      <th>4</th>\n",
       "      <td>You, sir, are my hero. Any chance you remember...</td>\n",
       "      <td>0</td>\n",
       "    </tr>\n",
       "    <tr>\n",
       "      <th>...</th>\n",
       "      <td>...</td>\n",
       "      <td>...</td>\n",
       "    </tr>\n",
       "    <tr>\n",
       "      <th>159446</th>\n",
       "      <td>\":::::And for the second time of asking, when ...</td>\n",
       "      <td>0</td>\n",
       "    </tr>\n",
       "    <tr>\n",
       "      <th>159447</th>\n",
       "      <td>You should be ashamed of yourself \\n\\nThat is ...</td>\n",
       "      <td>0</td>\n",
       "    </tr>\n",
       "    <tr>\n",
       "      <th>159448</th>\n",
       "      <td>Spitzer \\n\\nUmm, theres no actual article for ...</td>\n",
       "      <td>0</td>\n",
       "    </tr>\n",
       "    <tr>\n",
       "      <th>159449</th>\n",
       "      <td>And it looks like it was actually you who put ...</td>\n",
       "      <td>0</td>\n",
       "    </tr>\n",
       "    <tr>\n",
       "      <th>159450</th>\n",
       "      <td>\"\\nAnd ... I really don't think you understand...</td>\n",
       "      <td>0</td>\n",
       "    </tr>\n",
       "  </tbody>\n",
       "</table>\n",
       "<p>159292 rows × 2 columns</p>\n",
       "</div>"
      ],
      "text/plain": [
       "                                                     text  toxic\n",
       "0       Explanation\\nWhy the edits made under my usern...      0\n",
       "1       D'aww! He matches this background colour I'm s...      0\n",
       "2       Hey man, I'm really not trying to edit war. It...      0\n",
       "3       \"\\nMore\\nI can't make any real suggestions on ...      0\n",
       "4       You, sir, are my hero. Any chance you remember...      0\n",
       "...                                                   ...    ...\n",
       "159446  \":::::And for the second time of asking, when ...      0\n",
       "159447  You should be ashamed of yourself \\n\\nThat is ...      0\n",
       "159448  Spitzer \\n\\nUmm, theres no actual article for ...      0\n",
       "159449  And it looks like it was actually you who put ...      0\n",
       "159450  \"\\nAnd ... I really don't think you understand...      0\n",
       "\n",
       "[159292 rows x 2 columns]"
      ]
     },
     "execution_count": 4,
     "metadata": {},
     "output_type": "execute_result"
    }
   ],
   "source": [
    "df_toxic"
   ]
  },
  {
   "cell_type": "code",
   "execution_count": 5,
   "metadata": {},
   "outputs": [
    {
     "name": "stdout",
     "output_type": "stream",
     "text": [
      "<class 'pandas.core.frame.DataFrame'>\n",
      "Int64Index: 159292 entries, 0 to 159450\n",
      "Data columns (total 2 columns):\n",
      " #   Column  Non-Null Count   Dtype \n",
      "---  ------  --------------   ----- \n",
      " 0   text    159292 non-null  object\n",
      " 1   toxic   159292 non-null  int64 \n",
      "dtypes: int64(1), object(1)\n",
      "memory usage: 3.6+ MB\n"
     ]
    }
   ],
   "source": [
    "df_toxic.info()"
   ]
  },
  {
   "cell_type": "markdown",
   "metadata": {},
   "source": [
    "По данным имеем датасет с двумя столбцами, 159292 строки.\n",
    "\n",
    "Коментарии на английском языке. Во втором столбце видим метку - токсичный коментарий или нет, т.е. 1 и 0."
   ]
  },
  {
   "cell_type": "code",
   "execution_count": 6,
   "metadata": {},
   "outputs": [
    {
     "data": {
      "image/png": "[encoded data removed]",
      "text/plain": [
       "<Figure size 432x288 with 1 Axes>"
      ]
     },
     "metadata": {
      "needs_background": "light"
     },
     "output_type": "display_data"
    }
   ],
   "source": [
    "#посмотрим на соотношение токсичных коментариев к нормальным\n",
    "df_toxic['toxic'].value_counts().plot(kind='bar')\n",
    "plt.title('Отношение токсичных коментариев к нетоксичным')\n",
    "plt.xlabel('Вид коментария')\n",
    "plt.ylabel('Количество')\n",
    "plt.show()"
   ]
  },
  {
   "cell_type": "markdown",
   "metadata": {},
   "source": [
    "По графику виден явный дисбаланс. Необходимо учесть этот момент при обучении модели."
   ]
  },
  {
   "cell_type": "markdown",
   "metadata": {},
   "source": [
    "Лимитизиуем и очистим текст от символов."
   ]
  },
  {
   "cell_type": "code",
   "execution_count": 8,
   "metadata": {},
   "outputs": [
    {
     "data": {
      "text/plain": [
       "'\"\\nMore\\nI can\\'t make any real suggestions on improvement - I wondered if the section statistics should be later on, or a subsection of \"\"types of accidents\"\"  -I think the references may need tidying so that they are all in the exact same format ie date format etc. I can do that later on, if no-one else does first - if you have any preferences for formatting style on references or want to do it yourself please let me know.\\n\\nThere appears to be a backlog on articles for review so I guess there may be a delay until a reviewer turns up. It\\'s listed in the relevant form eg Wikipedia:Good_article_nominations#Transport  \"'"
      ]
     },
     "execution_count": 8,
     "metadata": {},
     "output_type": "execute_result"
    }
   ],
   "source": [
    "df_toxic['text'][3]"
   ]
  },
  {
   "cell_type": "code",
   "execution_count": 9,
   "metadata": {},
   "outputs": [],
   "source": [
    "def clear_text(text):\n",
    "    text = re.sub(r'[^a-zA-Z ]', ' ', text)\n",
    "    return \" \".join(text.split())"
   ]
  },
  {
   "cell_type": "code",
   "execution_count": 10,
   "metadata": {},
   "outputs": [],
   "source": [
    "df_toxic['text'] = df_toxic['text'].apply(clear_text)"
   ]
  },
  {
   "cell_type": "code",
   "execution_count": 11,
   "metadata": {},
   "outputs": [
    {
     "data": {
      "text/plain": [
       "'More I can t make any real suggestions on improvement I wondered if the section statistics should be later on or a subsection of types of accidents I think the references may need tidying so that they are all in the exact same format ie date format etc I can do that later on if no one else does first if you have any preferences for formatting style on references or want to do it yourself please let me know There appears to be a backlog on articles for review so I guess there may be a delay until a reviewer turns up It s listed in the relevant form eg Wikipedia Good article nominations Transport'"
      ]
     },
     "execution_count": 11,
     "metadata": {},
     "output_type": "execute_result"
    }
   ],
   "source": [
    "df_toxic['text'][3]"
   ]
  },
  {
   "cell_type": "code",
   "execution_count": 12,
   "metadata": {},
   "outputs": [],
   "source": [
    "# для определения тега «part-of-speech» (POS) для слов текста\n",
    "def get_wordnet_pos(word):\n",
    "    \"\"\"Map POS tag to first character lemmatize() accepts\"\"\"\n",
    "    tag = nltk.pos_tag([word])[0][1][0].upper()\n",
    "    tag_dict = {\"J\": wordnet.ADJ,\n",
    "                \"N\": wordnet.NOUN,\n",
    "                \"V\": wordnet.VERB,\n",
    "                \"R\": wordnet.ADV}\n",
    "    return tag_dict.get(tag, wordnet.NOUN)"
   ]
  },
  {
   "cell_type": "code",
   "execution_count": 13,
   "metadata": {},
   "outputs": [],
   "source": [
    "def lemmatize(text):\n",
    "    m=WordNetLemmatizer()\n",
    "    token_list = nltk.word_tokenize(text, get_wordnet_pos(text), preserve_line=True)\n",
    "    return \" \".join([m.lemmatize(w) for w in token_list])\n"
   ]
  },
  {
   "cell_type": "code",
   "execution_count": 14,
   "metadata": {},
   "outputs": [
    {
     "name": "stderr",
     "output_type": "stream",
     "text": [
      "100%|██████████| 159292/159292 [01:45<00:00, 1508.50it/s]\n"
     ]
    }
   ],
   "source": [
    "# nltk.download('averaged_perceptron_tagger')\n",
    "tqdm.pandas()    \n",
    "df_toxic['text'] = df_toxic['text'].progress_apply(lemmatize)"
   ]
  },
  {
   "cell_type": "code",
   "execution_count": 15,
   "metadata": {},
   "outputs": [
    {
     "data": {
      "text/plain": [
       "'More I can t make any real suggestion on improvement I wondered if the section statistic should be later on or a subsection of type of accident I think the reference may need tidying so that they are all in the exact same format ie date format etc I can do that later on if no one else doe first if you have any preference for formatting style on reference or want to do it yourself please let me know There appears to be a backlog on article for review so I guess there may be a delay until a reviewer turn up It s listed in the relevant form eg Wikipedia Good article nomination Transport'"
      ]
     },
     "execution_count": 15,
     "metadata": {},
     "output_type": "execute_result"
    }
   ],
   "source": [
    "df_toxic['text'][3]"
   ]
  },
  {
   "cell_type": "code",
   "execution_count": 16,
   "metadata": {},
   "outputs": [
    {
     "data": {
      "text/plain": [
       "1156"
      ]
     },
     "execution_count": 16,
     "metadata": {},
     "output_type": "execute_result"
    }
   ],
   "source": [
    "#проверим наличие дубликатов\n",
    "df_toxic.duplicated().sum()"
   ]
  },
  {
   "cell_type": "code",
   "execution_count": 17,
   "metadata": {},
   "outputs": [],
   "source": [
    "df_toxic = df_toxic.drop_duplicates()"
   ]
  },
  {
   "cell_type": "code",
   "execution_count": 18,
   "metadata": {},
   "outputs": [
    {
     "data": {
      "text/html": [
       "<div>\n",
       "<style scoped>\n",
       "    .dataframe tbody tr th:only-of-type {\n",
       "        vertical-align: middle;\n",
       "    }\n",
       "\n",
       "    .dataframe tbody tr th {\n",
       "        vertical-align: top;\n",
       "    }\n",
       "\n",
       "    .dataframe thead th {\n",
       "        text-align: right;\n",
       "    }\n",
       "</style>\n",
       "<table border=\"1\" class=\"dataframe\">\n",
       "  <thead>\n",
       "    <tr style=\"text-align: right;\">\n",
       "      <th></th>\n",
       "      <th>text</th>\n",
       "      <th>toxic</th>\n",
       "    </tr>\n",
       "  </thead>\n",
       "  <tbody>\n",
       "    <tr>\n",
       "      <th>131748</th>\n",
       "      <td>Yup they all worked If one failed for any reas...</td>\n",
       "      <td>0</td>\n",
       "    </tr>\n",
       "    <tr>\n",
       "      <th>130921</th>\n",
       "      <td>Another One Leo Okay guy we are near done our ...</td>\n",
       "      <td>0</td>\n",
       "    </tr>\n",
       "    <tr>\n",
       "      <th>143153</th>\n",
       "      <td>thanks for reformatting WillowW thanks for ref...</td>\n",
       "      <td>0</td>\n",
       "    </tr>\n",
       "    <tr>\n",
       "      <th>73588</th>\n",
       "      <td>stop pretending Stop pretending to be cool I d...</td>\n",
       "      <td>1</td>\n",
       "    </tr>\n",
       "    <tr>\n",
       "      <th>94460</th>\n",
       "      <td>This event wa a war an internal war between Ja...</td>\n",
       "      <td>0</td>\n",
       "    </tr>\n",
       "  </tbody>\n",
       "</table>\n",
       "</div>"
      ],
      "text/plain": [
       "                                                     text  toxic\n",
       "131748  Yup they all worked If one failed for any reas...      0\n",
       "130921  Another One Leo Okay guy we are near done our ...      0\n",
       "143153  thanks for reformatting WillowW thanks for ref...      0\n",
       "73588   stop pretending Stop pretending to be cool I d...      1\n",
       "94460   This event wa a war an internal war between Ja...      0"
      ]
     },
     "execution_count": 18,
     "metadata": {},
     "output_type": "execute_result"
    }
   ],
   "source": [
    "df_toxic.sample(5)"
   ]
  },
  {
   "cell_type": "code",
   "execution_count": 19,
   "metadata": {
    "scrolled": true
   },
   "outputs": [
    {
     "name": "stdout",
     "output_type": "stream",
     "text": [
      "<class 'pandas.core.frame.DataFrame'>\n",
      "Int64Index: 158136 entries, 0 to 159450\n",
      "Data columns (total 2 columns):\n",
      " #   Column  Non-Null Count   Dtype \n",
      "---  ------  --------------   ----- \n",
      " 0   text    158136 non-null  object\n",
      " 1   toxic   158136 non-null  int64 \n",
      "dtypes: int64(1), object(1)\n",
      "memory usage: 3.6+ MB\n"
     ]
    }
   ],
   "source": [
    "df_toxic.info()"
   ]
  },
  {
   "cell_type": "markdown",
   "metadata": {},
   "source": [
    "Промежуточный вывод по разделу:\n",
    "\n",
    "В полученном датасете произвели лемматизацию и очистку текстов от лишних символов. Также очистка от дубликатов.\n",
    "\n",
    "Выяснили, что по столбцу toxic имеем дисбаланс признака.\n",
    "\n",
    "Данные подготовили к обучению."
   ]
  },
  {
   "cell_type": "markdown",
   "metadata": {},
   "source": [
    "## Обучение"
   ]
  },
  {
   "cell_type": "code",
   "execution_count": 20,
   "metadata": {},
   "outputs": [
    {
     "name": "stdout",
     "output_type": "stream",
     "text": [
      "(126508, 2) (31628, 2)\n"
     ]
    }
   ],
   "source": [
    "#разделим на тренировочную и  тестовую выборки\n",
    "train, test = train_test_split(df_toxic, test_size=0.2, random_state=12345)\n",
    "print(train.shape, test.shape)"
   ]
  },
  {
   "cell_type": "code",
   "execution_count": 21,
   "metadata": {},
   "outputs": [
    {
     "name": "stdout",
     "output_type": "stream",
     "text": [
      "(126508,) (31628,)\n",
      "(126508,) (31628,)\n"
     ]
    }
   ],
   "source": [
    "#создаим корпус\n",
    "corpus_train = train['text'].values\n",
    "corpus_test = test['text'].values\n",
    "target_train = train['toxic']\n",
    "target_test = test['toxic']\n",
    "#посмотрим размерность\n",
    "print(corpus_train.shape, corpus_test.shape)\n",
    "print(target_train.shape, target_test.shape)"
   ]
  },
  {
   "cell_type": "code",
   "execution_count": 22,
   "metadata": {},
   "outputs": [
    {
     "name": "stderr",
     "output_type": "stream",
     "text": [
      "[nltk_data] Downloading package stopwords to /home/jovyan/nltk_data...\n",
      "[nltk_data]   Package stopwords is already up-to-date!\n"
     ]
    },
    {
     "name": "stdout",
     "output_type": "stream",
     "text": [
      "Размер матрицы: (126508, 59171)\n",
      "Размер матрицы: (31628, 59171)\n"
     ]
    }
   ],
   "source": [
    "#вычислим TF-IDF для корпуса текстов, указав стоп-слова:\n",
    "nltk.download('stopwords')\n",
    "stopwords = set(nltk_stopwords.words('english'))\n",
    "\n",
    "count_tf_idf = TfidfVectorizer(min_df=2, stop_words=stopwords) \n",
    "tf_idf_train = count_tf_idf.fit_transform(corpus_train) \n",
    "tf_idf_test = count_tf_idf.transform(corpus_test) \n",
    "\n",
    "print(\"Размер матрицы:\", tf_idf_train.shape)\n",
    "print(\"Размер матрицы:\", tf_idf_test.shape)"
   ]
  },
  {
   "cell_type": "markdown",
   "metadata": {},
   "source": [
    "Обучим пару моделей: LogisticRegression и RandomForestClassifier"
   ]
  },
  {
   "cell_type": "markdown",
   "metadata": {},
   "source": [
    "### LogisticRegression"
   ]
  },
  {
   "cell_type": "code",
   "execution_count": 23,
   "metadata": {},
   "outputs": [],
   "source": [
    "pipe_lr = Pipeline([('tfidf', TfidfVectorizer(stop_words=stopwords)), ('lrc', LogisticRegression(class_weight='balanced'))])"
   ]
  },
  {
   "cell_type": "code",
   "execution_count": 24,
   "metadata": {},
   "outputs": [],
   "source": [
    "parameters_lr = {\n",
    "    'tfidf__min_df': range(1, 3, 1),\n",
    "    'lrc__C': [0.1, 1, 10],\n",
    "    'lrc__solver': ['newton-cg', 'lbfgs',  'liblinear']\n",
    "}"
   ]
  },
  {
   "cell_type": "code",
   "execution_count": 25,
   "metadata": {},
   "outputs": [],
   "source": [
    "rs_model_lr = RandomizedSearchCV(\n",
    "    pipe_lr,\n",
    "    parameters_lr, \n",
    "    scoring='f1',\n",
    "    cv=3\n",
    ")"
   ]
  },
  {
   "cell_type": "code",
   "execution_count": 26,
   "metadata": {},
   "outputs": [
    {
     "name": "stderr",
     "output_type": "stream",
     "text": [
      "/opt/conda/lib/python3.9/site-packages/sklearn/linear_model/_logistic.py:763: ConvergenceWarning: lbfgs failed to converge (status=1):\n",
      "STOP: TOTAL NO. of ITERATIONS REACHED LIMIT.\n",
      "\n",
      "Increase the number of iterations (max_iter) or scale the data as shown in:\n",
      "    https://scikit-learn.org/stable/modules/preprocessing.html\n",
      "Please also refer to the documentation for alternative solver options:\n",
      "    https://scikit-learn.org/stable/modules/linear_model.html#logistic-regression\n",
      "  n_iter_i = _check_optimize_result(\n",
      "/opt/conda/lib/python3.9/site-packages/sklearn/linear_model/_logistic.py:763: ConvergenceWarning: lbfgs failed to converge (status=1):\n",
      "STOP: TOTAL NO. of ITERATIONS REACHED LIMIT.\n",
      "\n",
      "Increase the number of iterations (max_iter) or scale the data as shown in:\n",
      "    https://scikit-learn.org/stable/modules/preprocessing.html\n",
      "Please also refer to the documentation for alternative solver options:\n",
      "    https://scikit-learn.org/stable/modules/linear_model.html#logistic-regression\n",
      "  n_iter_i = _check_optimize_result(\n",
      "/opt/conda/lib/python3.9/site-packages/sklearn/linear_model/_logistic.py:763: ConvergenceWarning: lbfgs failed to converge (status=1):\n",
      "STOP: TOTAL NO. of ITERATIONS REACHED LIMIT.\n",
      "\n",
      "Increase the number of iterations (max_iter) or scale the data as shown in:\n",
      "    https://scikit-learn.org/stable/modules/preprocessing.html\n",
      "Please also refer to the documentation for alternative solver options:\n",
      "    https://scikit-learn.org/stable/modules/linear_model.html#logistic-regression\n",
      "  n_iter_i = _check_optimize_result(\n"
     ]
    },
    {
     "name": "stdout",
     "output_type": "stream",
     "text": [
      "CPU times: user 7min 15s, sys: 4min 24s, total: 11min 39s\n",
      "Wall time: 11min 40s\n"
     ]
    },
    {
     "data": {
      "text/plain": [
       "RandomizedSearchCV(cv=3,\n",
       "                   estimator=Pipeline(steps=[('tfidf',\n",
       "                                              TfidfVectorizer(stop_words={'a',\n",
       "                                                                          'about',\n",
       "                                                                          'above',\n",
       "                                                                          'after',\n",
       "                                                                          'again',\n",
       "                                                                          'against',\n",
       "                                                                          'ain',\n",
       "                                                                          'all',\n",
       "                                                                          'am',\n",
       "                                                                          'an',\n",
       "                                                                          'and',\n",
       "                                                                          'any',\n",
       "                                                                          'are',\n",
       "                                                                          'aren',\n",
       "                                                                          \"aren't\",\n",
       "                                                                          'as',\n",
       "                                                                          'at',\n",
       "                                                                          'be',\n",
       "                                                                          'because',\n",
       "                                                                          'been',\n",
       "                                                                          'before',\n",
       "                                                                          'being',\n",
       "                                                                          'below',\n",
       "                                                                          'between',\n",
       "                                                                          'both',\n",
       "                                                                          'but',\n",
       "                                                                          'by',\n",
       "                                                                          'can',\n",
       "                                                                          'couldn',\n",
       "                                                                          \"couldn't\", ...})),\n",
       "                                             ('lrc',\n",
       "                                              LogisticRegression(class_weight='balanced'))]),\n",
       "                   param_distributions={'lrc__C': [0.1, 1, 10],\n",
       "                                        'lrc__solver': ['newton-cg', 'lbfgs',\n",
       "                                                        'liblinear'],\n",
       "                                        'tfidf__min_df': range(1, 3)},\n",
       "                   scoring='f1')"
      ]
     },
     "execution_count": 26,
     "metadata": {},
     "output_type": "execute_result"
    }
   ],
   "source": [
    "%%time\n",
    "rs_model_lr.fit(corpus_train, target_train) "
   ]
  },
  {
   "cell_type": "code",
   "execution_count": 27,
   "metadata": {},
   "outputs": [
    {
     "name": "stdout",
     "output_type": "stream",
     "text": [
      "Значение F1 модели на трейне: 0.7519367943916032\n"
     ]
    }
   ],
   "source": [
    "print(f\"Значение F1 модели на трейне: {abs(rs_model_lr.best_score_)}\")"
   ]
  },
  {
   "cell_type": "code",
   "execution_count": 28,
   "metadata": {},
   "outputs": [
    {
     "name": "stdout",
     "output_type": "stream",
     "text": [
      "Оптимальные гиперпараметры для модели: {'tfidf__min_df': 1, 'lrc__solver': 'liblinear', 'lrc__C': 10}\n"
     ]
    }
   ],
   "source": [
    "print(f\"Оптимальные гиперпараметры для модели: {rs_model_lr.best_params_}\")"
   ]
  },
  {
   "cell_type": "markdown",
   "metadata": {},
   "source": [
    "### RandomForestClassifier"
   ]
  },
  {
   "cell_type": "code",
   "execution_count": 29,
   "metadata": {},
   "outputs": [],
   "source": [
    "pipe_rfc = Pipeline([('tfidf', TfidfVectorizer(stop_words=stopwords)), ('rfc', RandomForestClassifier(class_weight='balanced', random_state=12345))])"
   ]
  },
  {
   "cell_type": "code",
   "execution_count": 30,
   "metadata": {},
   "outputs": [],
   "source": [
    "parameters_rfc = {\n",
    "    'rfc__n_estimators': [90, 150],\n",
    "    'tfidf__min_df': range(1, 3, 1)\n",
    "}"
   ]
  },
  {
   "cell_type": "code",
   "execution_count": 31,
   "metadata": {},
   "outputs": [],
   "source": [
    "grid = RandomizedSearchCV(\n",
    "    pipe_rfc, \n",
    "    parameters_rfc, \n",
    "    scoring='f1', \n",
    "    verbose=3, \n",
    "    n_jobs=-1) "
   ]
  },
  {
   "cell_type": "code",
   "execution_count": 32,
   "metadata": {},
   "outputs": [
    {
     "name": "stdout",
     "output_type": "stream",
     "text": [
      "Fitting 5 folds for each of 4 candidates, totalling 20 fits\n"
     ]
    },
    {
     "name": "stderr",
     "output_type": "stream",
     "text": [
      "/opt/conda/lib/python3.9/site-packages/sklearn/model_selection/_search.py:285: UserWarning: The total space of parameters 4 is smaller than n_iter=10. Running 4 iterations. For exhaustive searches, use GridSearchCV.\n",
      "  warnings.warn(\n"
     ]
    },
    {
     "name": "stdout",
     "output_type": "stream",
     "text": [
      "[CV 1/5] END ..........rfc__n_estimators=90, tfidf__min_df=1; total time= 6.8min\n",
      "[CV 2/5] END ..........rfc__n_estimators=90, tfidf__min_df=1; total time= 6.6min\n",
      "[CV 3/5] END ..........rfc__n_estimators=90, tfidf__min_df=1; total time= 6.6min\n",
      "[CV 4/5] END ..........rfc__n_estimators=90, tfidf__min_df=1; total time= 6.5min\n",
      "[CV 5/5] END ..........rfc__n_estimators=90, tfidf__min_df=1; total time= 6.4min\n",
      "[CV 1/5] END ..........rfc__n_estimators=90, tfidf__min_df=2; total time= 4.3min\n",
      "[CV 2/5] END ..........rfc__n_estimators=90, tfidf__min_df=2; total time= 4.4min\n",
      "[CV 3/5] END ..........rfc__n_estimators=90, tfidf__min_df=2; total time= 4.4min\n",
      "[CV 4/5] END ..........rfc__n_estimators=90, tfidf__min_df=2; total time= 4.4min\n",
      "[CV 5/5] END ..........rfc__n_estimators=90, tfidf__min_df=2; total time= 4.5min\n",
      "[CV 1/5] END .........rfc__n_estimators=150, tfidf__min_df=1; total time=11.5min\n",
      "[CV 2/5] END .........rfc__n_estimators=150, tfidf__min_df=1; total time=10.7min\n",
      "[CV 3/5] END .........rfc__n_estimators=150, tfidf__min_df=1; total time=10.8min\n",
      "[CV 4/5] END .........rfc__n_estimators=150, tfidf__min_df=1; total time=10.7min\n",
      "[CV 5/5] END .........rfc__n_estimators=150, tfidf__min_df=1; total time=10.9min\n",
      "[CV 1/5] END .........rfc__n_estimators=150, tfidf__min_df=2; total time= 7.2min\n",
      "[CV 2/5] END .........rfc__n_estimators=150, tfidf__min_df=2; total time= 7.2min\n",
      "[CV 3/5] END .........rfc__n_estimators=150, tfidf__min_df=2; total time= 7.4min\n",
      "[CV 4/5] END .........rfc__n_estimators=150, tfidf__min_df=2; total time= 7.3min\n",
      "[CV 5/5] END .........rfc__n_estimators=150, tfidf__min_df=2; total time= 7.2min\n",
      "CPU times: user 2h 36min 15s, sys: 7.26 s, total: 2h 36min 23s\n",
      "Wall time: 2h 36min 32s\n"
     ]
    },
    {
     "data": {
      "text/plain": [
       "RandomizedSearchCV(estimator=Pipeline(steps=[('tfidf',\n",
       "                                              TfidfVectorizer(stop_words={'a',\n",
       "                                                                          'about',\n",
       "                                                                          'above',\n",
       "                                                                          'after',\n",
       "                                                                          'again',\n",
       "                                                                          'against',\n",
       "                                                                          'ain',\n",
       "                                                                          'all',\n",
       "                                                                          'am',\n",
       "                                                                          'an',\n",
       "                                                                          'and',\n",
       "                                                                          'any',\n",
       "                                                                          'are',\n",
       "                                                                          'aren',\n",
       "                                                                          \"aren't\",\n",
       "                                                                          'as',\n",
       "                                                                          'at',\n",
       "                                                                          'be',\n",
       "                                                                          'because',\n",
       "                                                                          'been',\n",
       "                                                                          'before',\n",
       "                                                                          'being',\n",
       "                                                                          'below',\n",
       "                                                                          'between',\n",
       "                                                                          'both',\n",
       "                                                                          'but',\n",
       "                                                                          'by',\n",
       "                                                                          'can',\n",
       "                                                                          'couldn',\n",
       "                                                                          \"couldn't\", ...})),\n",
       "                                             ('rfc',\n",
       "                                              RandomForestClassifier(class_weight='balanced',\n",
       "                                                                     random_state=12345))]),\n",
       "                   n_jobs=-1,\n",
       "                   param_distributions={'rfc__n_estimators': [90, 150],\n",
       "                                        'tfidf__min_df': range(1, 3)},\n",
       "                   scoring='f1', verbose=3)"
      ]
     },
     "execution_count": 32,
     "metadata": {},
     "output_type": "execute_result"
    }
   ],
   "source": [
    "%%time\n",
    "grid.fit(corpus_train, target_train) "
   ]
  },
  {
   "cell_type": "code",
   "execution_count": 33,
   "metadata": {},
   "outputs": [
    {
     "name": "stdout",
     "output_type": "stream",
     "text": [
      "Значение F1 модели на трейне: 0.634550104167176\n",
      "Оптимальные гиперпараметры для модели: {'tfidf__min_df': 2, 'rfc__n_estimators': 150}\n"
     ]
    }
   ],
   "source": [
    "print(f\"Значение F1 модели на трейне: {grid.best_score_}\")\n",
    "print(f\"Оптимальные гиперпараметры для модели: {grid.best_params_}\")"
   ]
  },
  {
   "cell_type": "markdown",
   "metadata": {},
   "source": [
    "По результату имеем:\n",
    "\n",
    "Модель LogisticRegression: \n",
    "\n",
    "Значение F1 модели на трейне: 0.7519805069145854\n",
    "\n",
    "Оптимальные гиперпараметры для модели: {'tfidf__min_df': 1, 'lrc__solver': 'lbfgs', 'lrc__C': 10}\n",
    "\n",
    "Модель RandomForestClassifier:\n",
    "\n",
    "Значение F1 модели на трейне: 0.6366958422334165\n",
    "\n",
    "Оптимальные гиперпараметры для модели: {'tfidf__min_df': 2, 'rfc__n_estimators': 150}"
   ]
  },
  {
   "cell_type": "markdown",
   "metadata": {},
   "source": [
    "Произведем расчет f1 меры на модели LogisticRegression., т.к. по удовлетворяет условиюзадачи: f1 > 0.75"
   ]
  },
  {
   "cell_type": "code",
   "execution_count": 34,
   "metadata": {},
   "outputs": [],
   "source": [
    "#предсказания на тестоовой выборке\n",
    "prediction = rs_model_lr.predict(corpus_test)"
   ]
  },
  {
   "cell_type": "code",
   "execution_count": 35,
   "metadata": {},
   "outputs": [
    {
     "name": "stdout",
     "output_type": "stream",
     "text": [
      "Значение f1: 0.766\n"
     ]
    }
   ],
   "source": [
    "f1_test = round(f1_score(target_test, prediction), 3)\n",
    "print('Значение f1:', f1_test)"
   ]
  },
  {
   "cell_type": "markdown",
   "metadata": {},
   "source": [
    "## Выводы"
   ]
  },
  {
   "cell_type": "markdown",
   "metadata": {},
   "source": [
    "Исходный датасет имеет 2 столбца, и 159292 строк.\n",
    "\n",
    "Произвели очистку текстов комментарий от лишних символов. Произвели лемматизацию. Очистили датасет от дубликатов.\n",
    "\n",
    "В ходе анализа выяснили, что по признаку toxic, в соотношении токсичныхи нетоксичных комментариях имеем дисбаланс, что учли при проверки моделей.\n",
    "\n",
    "Было обучено 2 модели: LogisticRegression и RandomForestClassifier.\n",
    "\n",
    "По условия задания метрика f1 должна быть не менее 0.75. Исходя из этого выбираем модель LogisticRegression.\n",
    "\n",
    "Значение F1 модели на трейне: 0.7519805069145854\n",
    "\n",
    "Оптимальные гиперпараметры для модели: {'tfidf__min_df': 1, 'lrc__solver': 'lbfgs', 'lrc__C': 10}\n",
    "\n",
    "Значение F1 модели на тесте: 0.766."
   ]
  }
 ],
 "metadata": {
  "ExecuteTimeLog": [
   {
    "duration": 391,
    "start_time": "2024-10-10T20:31:50.892Z"
   },
   {
    "duration": 435,
    "start_time": "2024-10-13T20:01:48.287Z"
   },
   {
    "duration": 46,
    "start_time": "2024-10-14T21:20:16.680Z"
   },
   {
    "duration": 417,
    "start_time": "2024-10-14T21:20:20.188Z"
   },
   {
    "duration": 27,
    "start_time": "2024-10-14T21:20:20.607Z"
   },
   {
    "duration": 7,
    "start_time": "2024-10-14T21:20:33.121Z"
   },
   {
    "duration": 1245,
    "start_time": "2024-10-14T21:20:48.118Z"
   },
   {
    "duration": 15,
    "start_time": "2024-10-14T21:34:09.825Z"
   },
   {
    "duration": 946,
    "start_time": "2024-10-14T21:36:49.268Z"
   },
   {
    "duration": 9,
    "start_time": "2024-10-14T21:36:51.087Z"
   },
   {
    "duration": 815,
    "start_time": "2024-10-14T21:37:14.778Z"
   },
   {
    "duration": 10,
    "start_time": "2024-10-14T21:37:16.715Z"
   },
   {
    "duration": 967,
    "start_time": "2024-10-14T21:37:21.345Z"
   },
   {
    "duration": 8,
    "start_time": "2024-10-14T21:37:22.314Z"
   },
   {
    "duration": 228,
    "start_time": "2024-10-14T21:37:59.803Z"
   },
   {
    "duration": 2885,
    "start_time": "2024-10-14T21:40:47.737Z"
   },
   {
    "duration": 61,
    "start_time": "2024-10-14T21:42:59.265Z"
   },
   {
    "duration": 2084,
    "start_time": "2024-10-14T21:46:57.547Z"
   },
   {
    "duration": 1347,
    "start_time": "2024-10-17T20:57:43.492Z"
   },
   {
    "duration": 2803,
    "start_time": "2024-10-17T20:57:50.690Z"
   },
   {
    "duration": 3,
    "start_time": "2024-10-17T20:57:53.496Z"
   },
   {
    "duration": 122,
    "start_time": "2024-10-17T20:59:32.122Z"
   },
   {
    "duration": 3,
    "start_time": "2024-10-17T20:59:38.942Z"
   },
   {
    "duration": 4093,
    "start_time": "2024-10-17T20:59:39.188Z"
   },
   {
    "duration": 17,
    "start_time": "2024-10-17T20:59:43.283Z"
   },
   {
    "duration": 32,
    "start_time": "2024-10-17T20:59:43.302Z"
   },
   {
    "duration": 514,
    "start_time": "2024-10-17T20:59:43.336Z"
   },
   {
    "duration": 268,
    "start_time": "2024-10-17T20:59:43.852Z"
   },
   {
    "duration": 2316,
    "start_time": "2024-10-17T20:59:44.121Z"
   },
   {
    "duration": 5,
    "start_time": "2024-10-17T21:26:20.329Z"
   },
   {
    "duration": 11,
    "start_time": "2024-10-17T21:29:14.378Z"
   },
   {
    "duration": 275,
    "start_time": "2024-10-17T21:30:01.711Z"
   },
   {
    "duration": 2621,
    "start_time": "2024-10-17T21:30:26.736Z"
   },
   {
    "duration": 1410,
    "start_time": "2024-10-17T21:30:29.359Z"
   },
   {
    "duration": 1165,
    "start_time": "2024-10-17T21:30:30.771Z"
   },
   {
    "duration": 16,
    "start_time": "2024-10-17T21:30:31.938Z"
   },
   {
    "duration": 45,
    "start_time": "2024-10-17T21:30:31.956Z"
   },
   {
    "duration": 347,
    "start_time": "2024-10-17T21:30:32.003Z"
   },
   {
    "duration": 3,
    "start_time": "2024-10-17T21:30:32.351Z"
   },
   {
    "duration": 435,
    "start_time": "2024-10-17T21:30:32.356Z"
   },
   {
    "duration": 0,
    "start_time": "2024-10-17T21:30:32.793Z"
   },
   {
    "duration": 0,
    "start_time": "2024-10-17T21:30:32.794Z"
   },
   {
    "duration": 0,
    "start_time": "2024-10-17T21:30:32.795Z"
   },
   {
    "duration": 3,
    "start_time": "2024-10-17T21:30:57.384Z"
   },
   {
    "duration": 293,
    "start_time": "2024-10-17T21:30:58.096Z"
   },
   {
    "duration": 3,
    "start_time": "2024-10-17T21:33:01.302Z"
   },
   {
    "duration": 137660,
    "start_time": "2024-10-17T21:33:01.945Z"
   },
   {
    "duration": 14,
    "start_time": "2024-10-17T21:35:19.607Z"
   },
   {
    "duration": 3,
    "start_time": "2024-10-17T21:36:25.684Z"
   },
   {
    "duration": 358,
    "start_time": "2024-10-17T21:56:24.449Z"
   },
   {
    "duration": 3,
    "start_time": "2024-10-17T21:58:23.274Z"
   },
   {
    "duration": 1446,
    "start_time": "2024-10-17T21:58:26.476Z"
   },
   {
    "duration": 9,
    "start_time": "2024-10-17T21:58:41.954Z"
   },
   {
    "duration": 173,
    "start_time": "2024-10-17T21:59:14.222Z"
   },
   {
    "duration": 183,
    "start_time": "2024-10-17T22:13:01.438Z"
   },
   {
    "duration": 174,
    "start_time": "2024-10-17T22:13:29.107Z"
   },
   {
    "duration": 2298,
    "start_time": "2024-10-17T22:13:31.766Z"
   },
   {
    "duration": 3,
    "start_time": "2024-10-17T22:13:52.551Z"
   },
   {
    "duration": 3,
    "start_time": "2024-10-17T22:16:52.407Z"
   },
   {
    "duration": 182,
    "start_time": "2024-10-17T22:18:51.487Z"
   },
   {
    "duration": 3,
    "start_time": "2024-10-17T22:19:37.192Z"
   },
   {
    "duration": 9402,
    "start_time": "2024-10-17T22:19:42.994Z"
   },
   {
    "duration": 4,
    "start_time": "2024-10-17T22:20:13.481Z"
   },
   {
    "duration": 4,
    "start_time": "2024-10-17T22:20:45.227Z"
   },
   {
    "duration": 3158,
    "start_time": "2024-10-25T20:14:30.964Z"
   },
   {
    "duration": 1421,
    "start_time": "2024-10-25T20:14:34.125Z"
   },
   {
    "duration": 4159,
    "start_time": "2024-10-25T20:14:35.548Z"
   },
   {
    "duration": 19,
    "start_time": "2024-10-25T20:14:39.710Z"
   },
   {
    "duration": 30,
    "start_time": "2024-10-25T20:14:39.730Z"
   },
   {
    "duration": 560,
    "start_time": "2024-10-25T20:14:39.761Z"
   },
   {
    "duration": 3,
    "start_time": "2024-10-25T20:14:40.325Z"
   },
   {
    "duration": 143993,
    "start_time": "2024-10-25T20:14:40.329Z"
   },
   {
    "duration": 13,
    "start_time": "2024-10-25T20:17:04.324Z"
   },
   {
    "duration": 5,
    "start_time": "2024-10-25T20:17:04.340Z"
   },
   {
    "duration": 1725,
    "start_time": "2024-10-25T20:17:04.347Z"
   },
   {
    "duration": 9,
    "start_time": "2024-10-25T20:17:06.074Z"
   },
   {
    "duration": 197,
    "start_time": "2024-10-25T20:17:06.085Z"
   },
   {
    "duration": 210,
    "start_time": "2024-10-25T20:17:06.284Z"
   },
   {
    "duration": 2441,
    "start_time": "2024-10-25T20:17:06.499Z"
   },
   {
    "duration": 9,
    "start_time": "2024-10-25T20:17:08.942Z"
   },
   {
    "duration": 11055,
    "start_time": "2024-10-25T20:17:08.952Z"
   },
   {
    "duration": 6,
    "start_time": "2024-10-25T20:17:20.009Z"
   },
   {
    "duration": 2513,
    "start_time": "2024-10-25T20:28:48.218Z"
   },
   {
    "duration": 1327,
    "start_time": "2024-10-25T20:28:50.734Z"
   },
   {
    "duration": 1162,
    "start_time": "2024-10-25T20:28:52.062Z"
   },
   {
    "duration": 15,
    "start_time": "2024-10-25T20:28:53.226Z"
   },
   {
    "duration": 52,
    "start_time": "2024-10-25T20:28:53.243Z"
   },
   {
    "duration": 303,
    "start_time": "2024-10-25T20:28:53.296Z"
   },
   {
    "duration": 4,
    "start_time": "2024-10-25T20:28:53.601Z"
   },
   {
    "duration": 133375,
    "start_time": "2024-10-25T20:28:53.606Z"
   },
   {
    "duration": 17,
    "start_time": "2024-10-25T20:31:06.983Z"
   },
   {
    "duration": 21,
    "start_time": "2024-10-25T20:31:07.003Z"
   },
   {
    "duration": 1576,
    "start_time": "2024-10-25T20:31:07.026Z"
   },
   {
    "duration": 9,
    "start_time": "2024-10-25T20:31:08.604Z"
   },
   {
    "duration": 187,
    "start_time": "2024-10-25T20:31:08.615Z"
   },
   {
    "duration": 185,
    "start_time": "2024-10-25T20:31:08.803Z"
   },
   {
    "duration": 131,
    "start_time": "2024-10-25T20:50:30.290Z"
   },
   {
    "duration": 3,
    "start_time": "2024-10-25T20:51:42.426Z"
   },
   {
    "duration": 10,
    "start_time": "2024-10-25T20:51:47.419Z"
   },
   {
    "duration": 25,
    "start_time": "2024-10-25T20:52:03.066Z"
   },
   {
    "duration": 4,
    "start_time": "2024-10-25T20:55:34.427Z"
   },
   {
    "duration": 3074,
    "start_time": "2024-10-26T20:49:13.742Z"
   },
   {
    "duration": 1401,
    "start_time": "2024-10-26T20:49:16.818Z"
   },
   {
    "duration": 1883,
    "start_time": "2024-10-26T20:49:18.220Z"
   },
   {
    "duration": 15,
    "start_time": "2024-10-26T20:49:20.105Z"
   },
   {
    "duration": 47,
    "start_time": "2024-10-26T20:49:20.121Z"
   },
   {
    "duration": 669,
    "start_time": "2024-10-26T20:49:20.170Z"
   },
   {
    "duration": 7,
    "start_time": "2024-10-26T20:49:20.841Z"
   },
   {
    "duration": 155763,
    "start_time": "2024-10-26T20:49:20.851Z"
   },
   {
    "duration": 9,
    "start_time": "2024-10-26T20:51:56.615Z"
   },
   {
    "duration": 3,
    "start_time": "2024-10-26T20:51:56.627Z"
   },
   {
    "duration": 1790,
    "start_time": "2024-10-26T20:51:56.642Z"
   },
   {
    "duration": 14,
    "start_time": "2024-10-26T20:51:58.433Z"
   },
   {
    "duration": 188,
    "start_time": "2024-10-26T20:51:58.449Z"
   },
   {
    "duration": 218,
    "start_time": "2024-10-26T20:51:58.645Z"
   },
   {
    "duration": 31,
    "start_time": "2024-10-26T20:51:58.865Z"
   },
   {
    "duration": 5,
    "start_time": "2024-10-26T20:51:58.899Z"
   },
   {
    "duration": 385,
    "start_time": "2024-10-26T20:51:58.911Z"
   },
   {
    "duration": 0,
    "start_time": "2024-10-26T20:51:59.297Z"
   },
   {
    "duration": 4410,
    "start_time": "2024-10-26T20:55:00.455Z"
   },
   {
    "duration": 13,
    "start_time": "2024-10-26T21:05:30.292Z"
   },
   {
    "duration": 3,
    "start_time": "2024-10-26T21:06:25.266Z"
   },
   {
    "duration": 79,
    "start_time": "2024-10-26T21:06:41.941Z"
   },
   {
    "duration": 16,
    "start_time": "2024-10-26T21:08:12.341Z"
   },
   {
    "duration": 4,
    "start_time": "2024-10-26T21:08:18.979Z"
   },
   {
    "duration": 12,
    "start_time": "2024-10-26T21:17:05.110Z"
   },
   {
    "duration": 3,
    "start_time": "2024-10-26T21:17:28.131Z"
   },
   {
    "duration": 3,
    "start_time": "2024-10-26T21:19:09.834Z"
   },
   {
    "duration": 11,
    "start_time": "2024-10-26T21:19:10.481Z"
   },
   {
    "duration": 3,
    "start_time": "2024-10-26T21:20:20.859Z"
   },
   {
    "duration": 3,
    "start_time": "2024-10-26T21:20:28.744Z"
   },
   {
    "duration": 25,
    "start_time": "2024-10-26T21:21:05.018Z"
   },
   {
    "duration": 3,
    "start_time": "2024-10-26T21:21:38.724Z"
   },
   {
    "duration": 3,
    "start_time": "2024-10-26T21:21:39.064Z"
   },
   {
    "duration": 3,
    "start_time": "2024-10-26T21:21:39.447Z"
   },
   {
    "duration": 33,
    "start_time": "2024-10-26T21:21:40.132Z"
   },
   {
    "duration": 10,
    "start_time": "2024-10-26T21:26:34.714Z"
   },
   {
    "duration": 21,
    "start_time": "2024-10-26T21:26:41.126Z"
   },
   {
    "duration": 8,
    "start_time": "2024-10-26T21:27:06.561Z"
   },
   {
    "duration": 5,
    "start_time": "2024-10-26T21:27:16.113Z"
   },
   {
    "duration": 4,
    "start_time": "2024-10-26T21:27:17.381Z"
   },
   {
    "duration": 3,
    "start_time": "2024-10-26T21:27:18.184Z"
   },
   {
    "duration": 423517,
    "start_time": "2024-10-26T21:27:21.036Z"
   },
   {
    "duration": 10,
    "start_time": "2024-10-26T21:34:24.559Z"
   },
   {
    "duration": 0,
    "start_time": "2024-10-26T21:34:24.570Z"
   },
   {
    "duration": 3,
    "start_time": "2024-10-26T21:39:27.254Z"
   },
   {
    "duration": 3,
    "start_time": "2024-10-26T21:39:29.238Z"
   },
   {
    "duration": 3,
    "start_time": "2024-10-26T21:40:47.184Z"
   },
   {
    "duration": 731334,
    "start_time": "2024-10-26T21:40:47.998Z"
   },
   {
    "duration": 15,
    "start_time": "2024-10-26T21:52:59.334Z"
   },
   {
    "duration": 5,
    "start_time": "2024-10-26T21:52:59.355Z"
   },
   {
    "duration": 3,
    "start_time": "2024-10-26T21:56:38.076Z"
   },
   {
    "duration": 3,
    "start_time": "2024-10-26T21:56:39.555Z"
   },
   {
    "duration": 4,
    "start_time": "2024-10-26T21:58:03.091Z"
   },
   {
    "duration": 2,
    "start_time": "2024-10-26T21:58:04.158Z"
   },
   {
    "duration": 3,
    "start_time": "2024-10-26T21:58:04.719Z"
   },
   {
    "duration": 884367,
    "start_time": "2024-10-26T21:58:05.258Z"
   },
   {
    "duration": 4,
    "start_time": "2024-10-26T22:12:49.627Z"
   },
   {
    "duration": 8,
    "start_time": "2024-10-26T22:12:49.644Z"
   },
   {
    "duration": 3,
    "start_time": "2024-10-26T22:17:43.853Z"
   },
   {
    "duration": 3,
    "start_time": "2024-10-26T22:17:44.741Z"
   },
   {
    "duration": 44,
    "start_time": "2024-10-26T22:17:45.076Z"
   },
   {
    "duration": 9,
    "start_time": "2024-10-26T22:17:45.706Z"
   },
   {
    "duration": 10,
    "start_time": "2024-10-26T22:17:48.720Z"
   },
   {
    "duration": 3,
    "start_time": "2024-10-26T22:18:11.856Z"
   },
   {
    "duration": 3,
    "start_time": "2024-10-26T22:18:12.114Z"
   },
   {
    "duration": 837056,
    "start_time": "2024-10-26T22:18:12.348Z"
   },
   {
    "duration": 3,
    "start_time": "2024-10-26T22:32:09.406Z"
   },
   {
    "duration": 10,
    "start_time": "2024-10-26T22:32:09.410Z"
   },
   {
    "duration": 3,
    "start_time": "2024-10-26T22:34:33.357Z"
   },
   {
    "duration": 521920,
    "start_time": "2024-10-26T22:34:33.603Z"
   },
   {
    "duration": 3,
    "start_time": "2024-10-26T22:43:15.525Z"
   },
   {
    "duration": 15,
    "start_time": "2024-10-26T22:43:15.529Z"
   },
   {
    "duration": 2308,
    "start_time": "2024-10-27T06:06:05.659Z"
   },
   {
    "duration": 1439,
    "start_time": "2024-10-27T06:06:07.970Z"
   },
   {
    "duration": 1151,
    "start_time": "2024-10-27T06:06:09.410Z"
   },
   {
    "duration": 14,
    "start_time": "2024-10-27T06:06:10.563Z"
   },
   {
    "duration": 34,
    "start_time": "2024-10-27T06:06:10.579Z"
   },
   {
    "duration": 399,
    "start_time": "2024-10-27T06:06:10.615Z"
   },
   {
    "duration": 3,
    "start_time": "2024-10-27T06:06:11.016Z"
   },
   {
    "duration": 125163,
    "start_time": "2024-10-27T06:06:11.021Z"
   },
   {
    "duration": 9,
    "start_time": "2024-10-27T06:08:16.186Z"
   },
   {
    "duration": 10,
    "start_time": "2024-10-27T06:08:16.197Z"
   },
   {
    "duration": 1401,
    "start_time": "2024-10-27T06:08:16.208Z"
   },
   {
    "duration": 10,
    "start_time": "2024-10-27T06:08:17.611Z"
   },
   {
    "duration": 178,
    "start_time": "2024-10-27T06:08:17.623Z"
   },
   {
    "duration": 187,
    "start_time": "2024-10-27T06:08:17.805Z"
   },
   {
    "duration": 23,
    "start_time": "2024-10-27T06:08:17.994Z"
   },
   {
    "duration": 5,
    "start_time": "2024-10-27T06:08:18.019Z"
   },
   {
    "duration": 144,
    "start_time": "2024-10-27T06:08:18.025Z"
   },
   {
    "duration": 0,
    "start_time": "2024-10-27T06:08:18.171Z"
   },
   {
    "duration": 0,
    "start_time": "2024-10-27T06:08:18.172Z"
   },
   {
    "duration": 0,
    "start_time": "2024-10-27T06:08:18.173Z"
   },
   {
    "duration": 0,
    "start_time": "2024-10-27T06:08:18.174Z"
   },
   {
    "duration": 0,
    "start_time": "2024-10-27T06:08:18.175Z"
   },
   {
    "duration": 0,
    "start_time": "2024-10-27T06:08:18.176Z"
   },
   {
    "duration": 0,
    "start_time": "2024-10-27T06:08:18.177Z"
   },
   {
    "duration": 0,
    "start_time": "2024-10-27T06:08:18.178Z"
   },
   {
    "duration": 0,
    "start_time": "2024-10-27T06:08:18.179Z"
   },
   {
    "duration": 3800,
    "start_time": "2024-10-27T06:08:33.526Z"
   },
   {
    "duration": 3,
    "start_time": "2024-10-27T06:08:37.328Z"
   },
   {
    "duration": 10,
    "start_time": "2024-10-27T06:08:37.333Z"
   },
   {
    "duration": 69,
    "start_time": "2024-10-27T06:08:37.344Z"
   },
   {
    "duration": 0,
    "start_time": "2024-10-27T06:08:37.415Z"
   },
   {
    "duration": 0,
    "start_time": "2024-10-27T06:08:37.417Z"
   },
   {
    "duration": 0,
    "start_time": "2024-10-27T06:08:37.419Z"
   },
   {
    "duration": 0,
    "start_time": "2024-10-27T06:08:37.420Z"
   },
   {
    "duration": 0,
    "start_time": "2024-10-27T06:08:37.421Z"
   },
   {
    "duration": 33814858,
    "start_time": "2024-10-27T06:09:57.974Z"
   },
   {
    "duration": 18,
    "start_time": "2024-10-27T15:41:40.482Z"
   },
   {
    "duration": 4,
    "start_time": "2024-10-27T15:41:55.088Z"
   },
   {
    "duration": 3,
    "start_time": "2024-10-27T15:41:58.115Z"
   },
   {
    "duration": 99,
    "start_time": "2024-10-27T15:41:58.562Z"
   },
   {
    "duration": 10,
    "start_time": "2024-10-27T15:41:58.983Z"
   },
   {
    "duration": 3,
    "start_time": "2024-10-27T15:42:39.589Z"
   },
   {
    "duration": 3,
    "start_time": "2024-10-27T15:42:40.138Z"
   },
   {
    "duration": 117,
    "start_time": "2024-10-27T15:42:41.453Z"
   },
   {
    "duration": 4,
    "start_time": "2024-10-27T15:45:47.915Z"
   },
   {
    "duration": 4,
    "start_time": "2024-10-27T15:45:48.180Z"
   },
   {
    "duration": 5,
    "start_time": "2024-10-27T15:45:48.423Z"
   },
   {
    "duration": 3,
    "start_time": "2024-10-27T15:45:48.650Z"
   },
   {
    "duration": 763146,
    "start_time": "2024-10-27T15:45:48.946Z"
   },
   {
    "duration": 3,
    "start_time": "2024-10-27T15:58:32.094Z"
   },
   {
    "duration": 4,
    "start_time": "2024-10-27T15:58:32.099Z"
   },
   {
    "duration": 3124,
    "start_time": "2024-10-27T20:13:30.962Z"
   },
   {
    "duration": 1285,
    "start_time": "2024-10-27T20:13:34.089Z"
   },
   {
    "duration": 1328,
    "start_time": "2024-10-27T20:13:35.376Z"
   },
   {
    "duration": 14,
    "start_time": "2024-10-27T20:13:40.788Z"
   },
   {
    "duration": 24,
    "start_time": "2024-10-27T20:13:44.397Z"
   },
   {
    "duration": 502,
    "start_time": "2024-10-27T20:13:46.072Z"
   },
   {
    "duration": 1156,
    "start_time": "2024-10-27T20:14:57.252Z"
   },
   {
    "duration": 8,
    "start_time": "2024-10-27T20:15:24.947Z"
   },
   {
    "duration": 3,
    "start_time": "2024-10-27T20:15:34.048Z"
   },
   {
    "duration": 116894,
    "start_time": "2024-10-27T20:15:35.552Z"
   },
   {
    "duration": 3,
    "start_time": "2024-10-27T20:17:32.448Z"
   },
   {
    "duration": 3,
    "start_time": "2024-10-27T20:20:43.268Z"
   },
   {
    "duration": 1345,
    "start_time": "2024-10-27T20:20:44.203Z"
   },
   {
    "duration": 3,
    "start_time": "2024-10-27T20:20:45.550Z"
   },
   {
    "duration": 172,
    "start_time": "2024-10-27T20:21:07.963Z"
   },
   {
    "duration": 168,
    "start_time": "2024-10-27T20:21:09.737Z"
   },
   {
    "duration": 16,
    "start_time": "2024-10-27T20:21:11.429Z"
   },
   {
    "duration": 2013,
    "start_time": "2024-10-27T20:21:44.906Z"
   },
   {
    "duration": 6,
    "start_time": "2024-10-27T20:45:18.617Z"
   },
   {
    "duration": 69,
    "start_time": "2024-10-27T20:48:58.881Z"
   },
   {
    "duration": 5193,
    "start_time": "2024-10-27T20:50:41.549Z"
   },
   {
    "duration": 2557,
    "start_time": "2024-10-27T20:51:22.265Z"
   },
   {
    "duration": 1302,
    "start_time": "2024-10-27T20:51:24.824Z"
   },
   {
    "duration": 1326,
    "start_time": "2024-10-27T20:51:26.127Z"
   },
   {
    "duration": 13,
    "start_time": "2024-10-27T20:51:27.455Z"
   },
   {
    "duration": 99,
    "start_time": "2024-10-27T20:51:27.470Z"
   },
   {
    "duration": 365,
    "start_time": "2024-10-27T20:51:27.571Z"
   },
   {
    "duration": 8,
    "start_time": "2024-10-27T20:51:27.937Z"
   },
   {
    "duration": 3,
    "start_time": "2024-10-27T20:51:27.947Z"
   },
   {
    "duration": 119405,
    "start_time": "2024-10-27T20:51:27.952Z"
   },
   {
    "duration": 4,
    "start_time": "2024-10-27T20:53:27.359Z"
   },
   {
    "duration": 10,
    "start_time": "2024-10-27T20:53:27.364Z"
   },
   {
    "duration": 1368,
    "start_time": "2024-10-27T20:53:27.375Z"
   },
   {
    "duration": 3,
    "start_time": "2024-10-27T20:53:28.745Z"
   },
   {
    "duration": 212,
    "start_time": "2024-10-27T20:53:28.750Z"
   },
   {
    "duration": 177,
    "start_time": "2024-10-27T20:53:28.964Z"
   },
   {
    "duration": 19,
    "start_time": "2024-10-27T20:53:29.142Z"
   },
   {
    "duration": 2123,
    "start_time": "2024-10-27T20:53:29.162Z"
   },
   {
    "duration": 5087,
    "start_time": "2024-10-27T20:53:31.287Z"
   },
   {
    "duration": 117,
    "start_time": "2024-10-27T20:53:53.102Z"
   },
   {
    "duration": 2542,
    "start_time": "2024-10-27T20:54:00.705Z"
   },
   {
    "duration": 1303,
    "start_time": "2024-10-27T20:54:03.249Z"
   },
   {
    "duration": 1329,
    "start_time": "2024-10-27T20:54:04.553Z"
   },
   {
    "duration": 14,
    "start_time": "2024-10-27T20:54:05.883Z"
   },
   {
    "duration": 50,
    "start_time": "2024-10-27T20:54:05.898Z"
   },
   {
    "duration": 324,
    "start_time": "2024-10-27T20:54:05.949Z"
   },
   {
    "duration": 8,
    "start_time": "2024-10-27T20:54:06.274Z"
   },
   {
    "duration": 28,
    "start_time": "2024-10-27T20:54:06.283Z"
   },
   {
    "duration": 120794,
    "start_time": "2024-10-27T20:54:06.313Z"
   },
   {
    "duration": 3,
    "start_time": "2024-10-27T20:56:07.109Z"
   },
   {
    "duration": 39,
    "start_time": "2024-10-27T20:56:07.113Z"
   },
   {
    "duration": 1338,
    "start_time": "2024-10-27T20:56:07.153Z"
   },
   {
    "duration": 5,
    "start_time": "2024-10-27T20:56:08.492Z"
   },
   {
    "duration": 192,
    "start_time": "2024-10-27T20:56:08.500Z"
   },
   {
    "duration": 178,
    "start_time": "2024-10-27T20:56:08.693Z"
   },
   {
    "duration": 15,
    "start_time": "2024-10-27T20:56:08.873Z"
   },
   {
    "duration": 2115,
    "start_time": "2024-10-27T20:56:08.890Z"
   },
   {
    "duration": 115,
    "start_time": "2024-10-27T20:56:11.007Z"
   },
   {
    "duration": 0,
    "start_time": "2024-10-27T20:56:11.123Z"
   },
   {
    "duration": 0,
    "start_time": "2024-10-27T20:56:11.125Z"
   },
   {
    "duration": 0,
    "start_time": "2024-10-27T20:56:11.126Z"
   },
   {
    "duration": 0,
    "start_time": "2024-10-27T20:56:11.127Z"
   },
   {
    "duration": 0,
    "start_time": "2024-10-27T20:56:11.127Z"
   },
   {
    "duration": 0,
    "start_time": "2024-10-27T20:56:11.129Z"
   },
   {
    "duration": 1,
    "start_time": "2024-10-27T20:56:11.129Z"
   },
   {
    "duration": 0,
    "start_time": "2024-10-27T20:56:11.131Z"
   },
   {
    "duration": 0,
    "start_time": "2024-10-27T20:56:11.131Z"
   },
   {
    "duration": 0,
    "start_time": "2024-10-27T20:56:11.132Z"
   },
   {
    "duration": 5043,
    "start_time": "2024-10-27T20:56:15.066Z"
   },
   {
    "duration": 2553,
    "start_time": "2024-10-27T21:22:24.719Z"
   },
   {
    "duration": 1295,
    "start_time": "2024-10-27T21:22:27.274Z"
   },
   {
    "duration": 1355,
    "start_time": "2024-10-27T21:22:28.571Z"
   },
   {
    "duration": 15,
    "start_time": "2024-10-27T21:22:29.928Z"
   },
   {
    "duration": 35,
    "start_time": "2024-10-27T21:22:29.944Z"
   },
   {
    "duration": 370,
    "start_time": "2024-10-27T21:22:29.980Z"
   },
   {
    "duration": 8,
    "start_time": "2024-10-27T21:22:30.351Z"
   },
   {
    "duration": 50,
    "start_time": "2024-10-27T21:22:30.360Z"
   },
   {
    "duration": 119098,
    "start_time": "2024-10-27T21:22:30.412Z"
   },
   {
    "duration": 4,
    "start_time": "2024-10-27T21:24:29.512Z"
   },
   {
    "duration": 20,
    "start_time": "2024-10-27T21:24:29.517Z"
   },
   {
    "duration": 1812,
    "start_time": "2024-10-27T21:24:29.538Z"
   },
   {
    "duration": 3,
    "start_time": "2024-10-27T21:24:31.352Z"
   },
   {
    "duration": 212,
    "start_time": "2024-10-27T21:24:31.356Z"
   },
   {
    "duration": 176,
    "start_time": "2024-10-27T21:24:31.569Z"
   },
   {
    "duration": 15,
    "start_time": "2024-10-27T21:24:31.746Z"
   },
   {
    "duration": 2107,
    "start_time": "2024-10-27T21:24:31.762Z"
   },
   {
    "duration": 3,
    "start_time": "2024-10-27T21:25:47.518Z"
   },
   {
    "duration": 655,
    "start_time": "2024-10-27T21:25:48.223Z"
   },
   {
    "duration": 6,
    "start_time": "2024-10-27T21:25:53.332Z"
   },
   {
    "duration": 160,
    "start_time": "2024-10-27T21:25:54.777Z"
   },
   {
    "duration": 184,
    "start_time": "2024-10-27T21:25:58.782Z"
   },
   {
    "duration": 17,
    "start_time": "2024-10-27T21:25:59.536Z"
   },
   {
    "duration": 2503,
    "start_time": "2024-10-27T21:26:16.666Z"
   },
   {
    "duration": 1281,
    "start_time": "2024-10-27T21:26:19.171Z"
   },
   {
    "duration": 1341,
    "start_time": "2024-10-27T21:26:20.453Z"
   },
   {
    "duration": 17,
    "start_time": "2024-10-27T21:26:21.796Z"
   },
   {
    "duration": 45,
    "start_time": "2024-10-27T21:26:21.814Z"
   },
   {
    "duration": 338,
    "start_time": "2024-10-27T21:26:21.860Z"
   },
   {
    "duration": 10,
    "start_time": "2024-10-27T21:26:22.199Z"
   },
   {
    "duration": 3,
    "start_time": "2024-10-27T21:26:22.210Z"
   },
   {
    "duration": 117606,
    "start_time": "2024-10-27T21:26:22.214Z"
   },
   {
    "duration": 3,
    "start_time": "2024-10-27T21:28:19.823Z"
   },
   {
    "duration": 23,
    "start_time": "2024-10-27T21:28:19.828Z"
   },
   {
    "duration": 1321,
    "start_time": "2024-10-27T21:28:19.852Z"
   },
   {
    "duration": 3,
    "start_time": "2024-10-27T21:28:21.175Z"
   },
   {
    "duration": 218,
    "start_time": "2024-10-27T21:28:21.179Z"
   },
   {
    "duration": 170,
    "start_time": "2024-10-27T21:28:21.398Z"
   },
   {
    "duration": 15,
    "start_time": "2024-10-27T21:28:21.570Z"
   },
   {
    "duration": 2071,
    "start_time": "2024-10-27T21:28:21.586Z"
   },
   {
    "duration": 121,
    "start_time": "2024-10-27T21:28:23.659Z"
   },
   {
    "duration": 0,
    "start_time": "2024-10-27T21:28:23.782Z"
   },
   {
    "duration": 0,
    "start_time": "2024-10-27T21:28:23.783Z"
   },
   {
    "duration": 0,
    "start_time": "2024-10-27T21:28:23.784Z"
   },
   {
    "duration": 0,
    "start_time": "2024-10-27T21:28:23.786Z"
   },
   {
    "duration": 0,
    "start_time": "2024-10-27T21:28:23.787Z"
   },
   {
    "duration": 0,
    "start_time": "2024-10-27T21:28:23.788Z"
   },
   {
    "duration": 0,
    "start_time": "2024-10-27T21:28:23.790Z"
   },
   {
    "duration": 0,
    "start_time": "2024-10-27T21:28:23.791Z"
   },
   {
    "duration": 1,
    "start_time": "2024-10-27T21:28:23.806Z"
   },
   {
    "duration": 0,
    "start_time": "2024-10-27T21:28:23.808Z"
   },
   {
    "duration": 4960,
    "start_time": "2024-10-27T21:33:06.359Z"
   },
   {
    "duration": 2514,
    "start_time": "2024-10-27T21:34:24.072Z"
   },
   {
    "duration": 1270,
    "start_time": "2024-10-27T21:34:26.589Z"
   },
   {
    "duration": 1314,
    "start_time": "2024-10-27T21:34:27.860Z"
   },
   {
    "duration": 19,
    "start_time": "2024-10-27T21:34:29.176Z"
   },
   {
    "duration": 36,
    "start_time": "2024-10-27T21:34:29.196Z"
   },
   {
    "duration": 332,
    "start_time": "2024-10-27T21:34:29.234Z"
   },
   {
    "duration": 7,
    "start_time": "2024-10-27T21:34:29.568Z"
   },
   {
    "duration": 3,
    "start_time": "2024-10-27T21:34:29.576Z"
   },
   {
    "duration": 119675,
    "start_time": "2024-10-27T21:34:29.580Z"
   },
   {
    "duration": 4,
    "start_time": "2024-10-27T21:36:29.258Z"
   },
   {
    "duration": 19,
    "start_time": "2024-10-27T21:36:29.263Z"
   },
   {
    "duration": 1324,
    "start_time": "2024-10-27T21:36:29.283Z"
   },
   {
    "duration": 4,
    "start_time": "2024-10-27T21:36:30.609Z"
   },
   {
    "duration": 208,
    "start_time": "2024-10-27T21:36:30.614Z"
   },
   {
    "duration": 176,
    "start_time": "2024-10-27T21:36:30.824Z"
   },
   {
    "duration": 18,
    "start_time": "2024-10-27T21:36:31.001Z"
   },
   {
    "duration": 2202,
    "start_time": "2024-10-27T21:36:31.020Z"
   },
   {
    "duration": 120,
    "start_time": "2024-10-27T21:36:33.223Z"
   },
   {
    "duration": 0,
    "start_time": "2024-10-27T21:36:33.345Z"
   },
   {
    "duration": 0,
    "start_time": "2024-10-27T21:36:33.346Z"
   },
   {
    "duration": 0,
    "start_time": "2024-10-27T21:36:33.346Z"
   },
   {
    "duration": 0,
    "start_time": "2024-10-27T21:36:33.347Z"
   },
   {
    "duration": 0,
    "start_time": "2024-10-27T21:36:33.348Z"
   },
   {
    "duration": 0,
    "start_time": "2024-10-27T21:36:33.349Z"
   },
   {
    "duration": 0,
    "start_time": "2024-10-27T21:36:33.350Z"
   },
   {
    "duration": 0,
    "start_time": "2024-10-27T21:36:33.351Z"
   },
   {
    "duration": 0,
    "start_time": "2024-10-27T21:36:33.352Z"
   },
   {
    "duration": 4976,
    "start_time": "2024-10-27T21:37:29.058Z"
   },
   {
    "duration": 3,
    "start_time": "2024-10-27T21:37:34.726Z"
   },
   {
    "duration": 3,
    "start_time": "2024-10-27T21:37:37.816Z"
   },
   {
    "duration": 3,
    "start_time": "2024-10-27T21:37:40.650Z"
   },
   {
    "duration": 2,
    "start_time": "2024-10-27T21:37:41.836Z"
   },
   {
    "duration": 57,
    "start_time": "2024-10-27T21:38:13.483Z"
   },
   {
    "duration": 2624,
    "start_time": "2024-10-27T21:38:20.719Z"
   },
   {
    "duration": 1209,
    "start_time": "2024-10-27T21:38:23.345Z"
   },
   {
    "duration": 1369,
    "start_time": "2024-10-27T21:38:24.556Z"
   },
   {
    "duration": 14,
    "start_time": "2024-10-27T21:38:25.927Z"
   },
   {
    "duration": 24,
    "start_time": "2024-10-27T21:38:25.942Z"
   },
   {
    "duration": 335,
    "start_time": "2024-10-27T21:38:25.967Z"
   },
   {
    "duration": 9,
    "start_time": "2024-10-27T21:38:26.303Z"
   },
   {
    "duration": 3,
    "start_time": "2024-10-27T21:38:26.313Z"
   },
   {
    "duration": 119254,
    "start_time": "2024-10-27T21:38:26.317Z"
   },
   {
    "duration": 4,
    "start_time": "2024-10-27T21:40:25.573Z"
   },
   {
    "duration": 11,
    "start_time": "2024-10-27T21:40:25.578Z"
   },
   {
    "duration": 1297,
    "start_time": "2024-10-27T21:40:25.590Z"
   },
   {
    "duration": 4,
    "start_time": "2024-10-27T21:40:26.889Z"
   },
   {
    "duration": 202,
    "start_time": "2024-10-27T21:40:26.894Z"
   },
   {
    "duration": 187,
    "start_time": "2024-10-27T21:40:27.098Z"
   },
   {
    "duration": 24,
    "start_time": "2024-10-27T21:40:27.287Z"
   },
   {
    "duration": 18,
    "start_time": "2024-10-27T21:40:27.312Z"
   },
   {
    "duration": 126,
    "start_time": "2024-10-27T21:40:27.332Z"
   },
   {
    "duration": 0,
    "start_time": "2024-10-27T21:40:27.460Z"
   },
   {
    "duration": 0,
    "start_time": "2024-10-27T21:40:27.460Z"
   },
   {
    "duration": 0,
    "start_time": "2024-10-27T21:40:27.461Z"
   },
   {
    "duration": 0,
    "start_time": "2024-10-27T21:40:27.462Z"
   },
   {
    "duration": 0,
    "start_time": "2024-10-27T21:40:27.463Z"
   },
   {
    "duration": 0,
    "start_time": "2024-10-27T21:40:27.464Z"
   },
   {
    "duration": 0,
    "start_time": "2024-10-27T21:40:27.465Z"
   },
   {
    "duration": 0,
    "start_time": "2024-10-27T21:40:27.466Z"
   },
   {
    "duration": 0,
    "start_time": "2024-10-27T21:40:27.466Z"
   },
   {
    "duration": 3314,
    "start_time": "2024-10-27T21:44:42.265Z"
   },
   {
    "duration": 595769,
    "start_time": "2024-10-27T21:44:56.775Z"
   },
   {
    "duration": 2664,
    "start_time": "2024-10-28T11:38:48.572Z"
   },
   {
    "duration": 1366,
    "start_time": "2024-10-28T11:38:51.238Z"
   },
   {
    "duration": 1322,
    "start_time": "2024-10-28T11:38:52.606Z"
   },
   {
    "duration": 15,
    "start_time": "2024-10-28T11:38:53.930Z"
   },
   {
    "duration": 49,
    "start_time": "2024-10-28T11:38:53.947Z"
   },
   {
    "duration": 557,
    "start_time": "2024-10-28T11:38:53.997Z"
   },
   {
    "duration": 8,
    "start_time": "2024-10-28T11:38:54.556Z"
   },
   {
    "duration": 3,
    "start_time": "2024-10-28T11:38:54.566Z"
   },
   {
    "duration": 123847,
    "start_time": "2024-10-28T11:38:54.571Z"
   },
   {
    "duration": 4,
    "start_time": "2024-10-28T11:40:58.421Z"
   },
   {
    "duration": 19,
    "start_time": "2024-10-28T11:40:58.427Z"
   },
   {
    "duration": 1421,
    "start_time": "2024-10-28T11:40:58.448Z"
   },
   {
    "duration": 4,
    "start_time": "2024-10-28T11:40:59.871Z"
   },
   {
    "duration": 185,
    "start_time": "2024-10-28T11:40:59.877Z"
   },
   {
    "duration": 176,
    "start_time": "2024-10-28T11:41:00.063Z"
   },
   {
    "duration": 23,
    "start_time": "2024-10-28T11:41:00.240Z"
   },
   {
    "duration": 5,
    "start_time": "2024-10-28T11:41:00.265Z"
   },
   {
    "duration": 3698,
    "start_time": "2024-10-28T11:41:00.271Z"
   },
   {
    "duration": 733139,
    "start_time": "2024-10-28T11:41:03.971Z"
   },
   {
    "duration": 3,
    "start_time": "2024-10-28T11:53:17.111Z"
   },
   {
    "duration": 6,
    "start_time": "2024-10-28T11:53:17.116Z"
   },
   {
    "duration": 21,
    "start_time": "2024-10-28T11:53:17.123Z"
   },
   {
    "duration": 73,
    "start_time": "2024-10-28T11:53:17.145Z"
   },
   {
    "duration": 2316,
    "start_time": "2024-10-28T18:36:54.725Z"
   },
   {
    "duration": 1400,
    "start_time": "2024-10-28T18:36:57.044Z"
   },
   {
    "duration": 1135,
    "start_time": "2024-10-28T18:36:58.445Z"
   },
   {
    "duration": 14,
    "start_time": "2024-10-28T18:36:59.582Z"
   },
   {
    "duration": 32,
    "start_time": "2024-10-28T18:36:59.597Z"
   },
   {
    "duration": 386,
    "start_time": "2024-10-28T18:36:59.643Z"
   },
   {
    "duration": 14,
    "start_time": "2024-10-28T18:37:00.031Z"
   },
   {
    "duration": 43,
    "start_time": "2024-10-28T18:37:00.046Z"
   },
   {
    "duration": 125699,
    "start_time": "2024-10-28T18:37:00.091Z"
   },
   {
    "duration": 4,
    "start_time": "2024-10-28T18:39:05.794Z"
   },
   {
    "duration": 38,
    "start_time": "2024-10-28T18:39:05.799Z"
   },
   {
    "duration": 2119,
    "start_time": "2024-10-28T18:39:05.838Z"
   },
   {
    "duration": 4,
    "start_time": "2024-10-28T18:39:07.959Z"
   },
   {
    "duration": 185,
    "start_time": "2024-10-28T18:39:07.965Z"
   },
   {
    "duration": 194,
    "start_time": "2024-10-28T18:39:08.152Z"
   },
   {
    "duration": 24,
    "start_time": "2024-10-28T18:39:08.347Z"
   },
   {
    "duration": 6,
    "start_time": "2024-10-28T18:39:08.372Z"
   },
   {
    "duration": 6622,
    "start_time": "2024-10-28T18:39:08.380Z"
   },
   {
    "duration": 936364,
    "start_time": "2024-10-28T18:39:15.004Z"
   },
   {
    "duration": 2,
    "start_time": "2024-10-28T18:54:51.370Z"
   },
   {
    "duration": 69,
    "start_time": "2024-10-28T18:54:51.374Z"
   },
   {
    "duration": 26,
    "start_time": "2024-10-28T18:54:51.444Z"
   },
   {
    "duration": 23,
    "start_time": "2024-10-28T18:54:51.472Z"
   },
   {
    "duration": 687071,
    "start_time": "2024-10-28T18:54:51.497Z"
   },
   {
    "duration": 4,
    "start_time": "2024-10-28T19:06:18.570Z"
   },
   {
    "duration": 15,
    "start_time": "2024-10-28T19:06:18.576Z"
   },
   {
    "duration": 7707338,
    "start_time": "2024-10-28T19:06:18.594Z"
   },
   {
    "duration": 0,
    "start_time": "2024-10-28T21:14:46.079Z"
   },
   {
    "duration": 0,
    "start_time": "2024-10-28T21:14:46.080Z"
   },
   {
    "duration": 8,
    "start_time": "2024-10-28T21:17:17.336Z"
   },
   {
    "duration": 34,
    "start_time": "2024-10-28T21:17:24.636Z"
   },
   {
    "duration": 3,
    "start_time": "2024-10-28T21:20:28.135Z"
   },
   {
    "duration": 2275,
    "start_time": "2024-10-28T21:27:33.711Z"
   },
   {
    "duration": 1358,
    "start_time": "2024-10-28T21:27:35.988Z"
   },
   {
    "duration": 1078,
    "start_time": "2024-10-28T21:27:37.348Z"
   },
   {
    "duration": 21,
    "start_time": "2024-10-28T21:27:38.428Z"
   },
   {
    "duration": 34,
    "start_time": "2024-10-28T21:27:38.450Z"
   },
   {
    "duration": 376,
    "start_time": "2024-10-28T21:27:38.486Z"
   },
   {
    "duration": 10,
    "start_time": "2024-10-28T21:27:38.864Z"
   },
   {
    "duration": 3,
    "start_time": "2024-10-28T21:27:38.876Z"
   },
   {
    "duration": 122926,
    "start_time": "2024-10-28T21:27:38.881Z"
   },
   {
    "duration": 4,
    "start_time": "2024-10-28T21:29:41.810Z"
   },
   {
    "duration": 17,
    "start_time": "2024-10-28T21:29:41.815Z"
   },
   {
    "duration": 2052,
    "start_time": "2024-10-28T21:29:41.834Z"
   },
   {
    "duration": 4,
    "start_time": "2024-10-28T21:29:43.888Z"
   },
   {
    "duration": 207,
    "start_time": "2024-10-28T21:29:43.893Z"
   },
   {
    "duration": 182,
    "start_time": "2024-10-28T21:29:44.102Z"
   },
   {
    "duration": 30,
    "start_time": "2024-10-28T21:29:44.285Z"
   },
   {
    "duration": 36,
    "start_time": "2024-10-28T21:29:44.316Z"
   },
   {
    "duration": 4,
    "start_time": "2024-10-28T21:29:44.354Z"
   },
   {
    "duration": 6540,
    "start_time": "2024-10-28T21:29:44.360Z"
   },
   {
    "duration": 3,
    "start_time": "2024-10-28T21:29:50.902Z"
   },
   {
    "duration": 48,
    "start_time": "2024-10-28T21:29:50.907Z"
   },
   {
    "duration": 29,
    "start_time": "2024-10-28T21:29:50.956Z"
   },
   {
    "duration": 236,
    "start_time": "2024-10-28T21:29:50.986Z"
   },
   {
    "duration": 9,
    "start_time": "2024-10-28T21:29:51.224Z"
   },
   {
    "duration": 0,
    "start_time": "2024-10-28T21:29:51.235Z"
   },
   {
    "duration": 0,
    "start_time": "2024-10-28T21:29:51.236Z"
   },
   {
    "duration": 0,
    "start_time": "2024-10-28T21:29:51.237Z"
   },
   {
    "duration": 0,
    "start_time": "2024-10-28T21:29:51.238Z"
   },
   {
    "duration": 0,
    "start_time": "2024-10-28T21:29:51.239Z"
   },
   {
    "duration": 0,
    "start_time": "2024-10-28T21:29:51.239Z"
   },
   {
    "duration": 4,
    "start_time": "2024-10-28T21:32:51.202Z"
   },
   {
    "duration": 3,
    "start_time": "2024-10-28T21:32:51.904Z"
   },
   {
    "duration": 4,
    "start_time": "2024-10-28T21:32:52.673Z"
   },
   {
    "duration": 93,
    "start_time": "2024-10-28T21:32:53.375Z"
   },
   {
    "duration": 2,
    "start_time": "2024-10-28T21:33:21.149Z"
   },
   {
    "duration": 3,
    "start_time": "2024-10-28T21:33:21.818Z"
   },
   {
    "duration": 602276,
    "start_time": "2024-10-28T21:33:22.594Z"
   },
   {
    "duration": 3,
    "start_time": "2024-10-28T21:43:24.872Z"
   },
   {
    "duration": 23,
    "start_time": "2024-10-28T21:43:24.877Z"
   },
   {
    "duration": 89,
    "start_time": "2024-10-28T21:44:19.335Z"
   },
   {
    "duration": 3,
    "start_time": "2024-10-28T21:44:57.826Z"
   },
   {
    "duration": 3,
    "start_time": "2024-10-28T21:44:59.026Z"
   },
   {
    "duration": 3,
    "start_time": "2024-10-28T21:44:59.953Z"
   },
   {
    "duration": 2272,
    "start_time": "2024-10-28T21:50:51.998Z"
   },
   {
    "duration": 1366,
    "start_time": "2024-10-28T21:50:54.272Z"
   },
   {
    "duration": 1087,
    "start_time": "2024-10-28T21:50:55.640Z"
   },
   {
    "duration": 15,
    "start_time": "2024-10-28T21:50:56.730Z"
   },
   {
    "duration": 35,
    "start_time": "2024-10-28T21:50:56.747Z"
   },
   {
    "duration": 352,
    "start_time": "2024-10-28T21:50:56.783Z"
   },
   {
    "duration": 9,
    "start_time": "2024-10-28T21:50:57.136Z"
   },
   {
    "duration": 53,
    "start_time": "2024-10-28T21:50:57.146Z"
   },
   {
    "duration": 123354,
    "start_time": "2024-10-28T21:50:57.200Z"
   },
   {
    "duration": 5,
    "start_time": "2024-10-28T21:53:00.557Z"
   },
   {
    "duration": 7,
    "start_time": "2024-10-28T21:53:00.563Z"
   },
   {
    "duration": 2083,
    "start_time": "2024-10-28T21:53:00.571Z"
   },
   {
    "duration": 4,
    "start_time": "2024-10-28T21:53:02.655Z"
   },
   {
    "duration": 228,
    "start_time": "2024-10-28T21:53:02.660Z"
   },
   {
    "duration": 196,
    "start_time": "2024-10-28T21:53:02.889Z"
   },
   {
    "duration": 30,
    "start_time": "2024-10-28T21:53:03.087Z"
   },
   {
    "duration": 114,
    "start_time": "2024-10-28T21:53:03.119Z"
   },
   {
    "duration": 4,
    "start_time": "2024-10-28T21:53:03.235Z"
   },
   {
    "duration": 6746,
    "start_time": "2024-10-28T21:53:03.241Z"
   },
   {
    "duration": 4,
    "start_time": "2024-10-28T21:53:09.988Z"
   },
   {
    "duration": 5,
    "start_time": "2024-10-28T21:53:09.994Z"
   },
   {
    "duration": 10,
    "start_time": "2024-10-28T21:53:10.000Z"
   },
   {
    "duration": 764717,
    "start_time": "2024-10-28T21:53:10.011Z"
   },
   {
    "duration": 14,
    "start_time": "2024-10-28T22:05:54.729Z"
   },
   {
    "duration": 15,
    "start_time": "2024-10-28T22:05:54.745Z"
   },
   {
    "duration": 6,
    "start_time": "2024-10-28T22:05:54.762Z"
   },
   {
    "duration": 3,
    "start_time": "2024-10-28T22:05:54.770Z"
   },
   {
    "duration": 2,
    "start_time": "2024-10-28T22:05:54.777Z"
   },
   {
    "duration": 9463952,
    "start_time": "2024-10-28T22:05:54.781Z"
   },
   {
    "duration": 132,
    "start_time": "2024-10-29T00:43:38.735Z"
   },
   {
    "duration": 5,
    "start_time": "2024-10-29T04:16:59.100Z"
   },
   {
    "duration": 2787,
    "start_time": "2024-10-29T09:05:38.661Z"
   },
   {
    "duration": 1443,
    "start_time": "2024-10-29T09:05:41.450Z"
   },
   {
    "duration": 1537,
    "start_time": "2024-10-29T09:05:42.895Z"
   },
   {
    "duration": 14,
    "start_time": "2024-10-29T09:05:44.434Z"
   },
   {
    "duration": 31,
    "start_time": "2024-10-29T09:05:44.450Z"
   },
   {
    "duration": 570,
    "start_time": "2024-10-29T09:05:44.482Z"
   },
   {
    "duration": 10,
    "start_time": "2024-10-29T09:05:45.892Z"
   },
   {
    "duration": 3,
    "start_time": "2024-10-29T09:05:47.747Z"
   },
   {
    "duration": 134270,
    "start_time": "2024-10-29T09:05:48.059Z"
   },
   {
    "duration": 4,
    "start_time": "2024-10-29T09:08:02.331Z"
   },
   {
    "duration": 17,
    "start_time": "2024-10-29T09:08:02.337Z"
   },
   {
    "duration": 2379,
    "start_time": "2024-10-29T09:08:02.356Z"
   },
   {
    "duration": 4,
    "start_time": "2024-10-29T09:08:04.737Z"
   },
   {
    "duration": 206,
    "start_time": "2024-10-29T09:08:04.742Z"
   },
   {
    "duration": 201,
    "start_time": "2024-10-29T09:08:04.949Z"
   },
   {
    "duration": 31,
    "start_time": "2024-10-29T09:08:05.152Z"
   },
   {
    "duration": 49,
    "start_time": "2024-10-29T20:30:09.285Z"
   },
   {
    "duration": 2746,
    "start_time": "2024-10-29T20:30:25.706Z"
   },
   {
    "duration": 1433,
    "start_time": "2024-10-29T20:30:28.455Z"
   },
   {
    "duration": 1454,
    "start_time": "2024-10-29T20:30:29.889Z"
   },
   {
    "duration": 16,
    "start_time": "2024-10-29T20:30:31.345Z"
   },
   {
    "duration": 30,
    "start_time": "2024-10-29T20:30:31.363Z"
   },
   {
    "duration": 725,
    "start_time": "2024-10-29T20:30:31.395Z"
   },
   {
    "duration": 4,
    "start_time": "2024-10-29T20:31:44.631Z"
   },
   {
    "duration": 121,
    "start_time": "2024-10-29T20:31:50.866Z"
   },
   {
    "duration": 9,
    "start_time": "2024-10-29T20:33:08.565Z"
   },
   {
    "duration": 3,
    "start_time": "2024-10-29T20:33:09.070Z"
   },
   {
    "duration": 133019,
    "start_time": "2024-10-29T20:33:09.343Z"
   },
   {
    "duration": 4,
    "start_time": "2024-10-29T20:35:22.365Z"
   },
   {
    "duration": 5,
    "start_time": "2024-10-29T20:35:22.370Z"
   },
   {
    "duration": 2248,
    "start_time": "2024-10-29T20:35:22.377Z"
   },
   {
    "duration": 4,
    "start_time": "2024-10-29T20:35:24.626Z"
   },
   {
    "duration": 205,
    "start_time": "2024-10-29T20:35:24.632Z"
   },
   {
    "duration": 201,
    "start_time": "2024-10-29T20:35:24.839Z"
   },
   {
    "duration": 32,
    "start_time": "2024-10-29T20:35:25.042Z"
   },
   {
    "duration": 43,
    "start_time": "2024-10-29T20:35:25.075Z"
   },
   {
    "duration": 4,
    "start_time": "2024-10-29T20:35:25.121Z"
   },
   {
    "duration": 7051,
    "start_time": "2024-10-29T20:35:25.127Z"
   },
   {
    "duration": 3,
    "start_time": "2024-10-29T20:35:32.180Z"
   },
   {
    "duration": 34,
    "start_time": "2024-10-29T20:35:32.185Z"
   },
   {
    "duration": 6,
    "start_time": "2024-10-29T20:35:32.222Z"
   },
   {
    "duration": 881593,
    "start_time": "2024-10-29T20:35:32.230Z"
   },
   {
    "duration": 7,
    "start_time": "2024-10-29T20:50:13.825Z"
   },
   {
    "duration": 14,
    "start_time": "2024-10-29T20:50:13.833Z"
   },
   {
    "duration": 1487,
    "start_time": "2024-10-29T20:50:13.850Z"
   },
   {
    "duration": 10,
    "start_time": "2024-10-29T20:50:15.339Z"
   },
   {
    "duration": 6,
    "start_time": "2024-10-29T20:55:15.690Z"
   },
   {
    "duration": 14,
    "start_time": "2024-10-29T20:55:23.402Z"
   },
   {
    "duration": 14,
    "start_time": "2024-10-29T20:55:40.320Z"
   },
   {
    "duration": 16,
    "start_time": "2024-10-29T22:30:30.303Z"
   },
   {
    "duration": 12,
    "start_time": "2024-10-29T22:43:22.867Z"
   },
   {
    "duration": 94,
    "start_time": "2024-10-31T06:09:52.598Z"
   },
   {
    "duration": 4,
    "start_time": "2024-10-31T06:20:52.423Z"
   },
   {
    "duration": 2872,
    "start_time": "2024-10-31T06:22:02.196Z"
   },
   {
    "duration": 1815,
    "start_time": "2024-10-31T06:22:05.843Z"
   },
   {
    "duration": 1561,
    "start_time": "2024-10-31T06:22:07.660Z"
   },
   {
    "duration": 12,
    "start_time": "2024-10-31T06:22:09.223Z"
   },
   {
    "duration": 134,
    "start_time": "2024-10-31T06:22:09.237Z"
   },
   {
    "duration": 141,
    "start_time": "2024-10-31T06:22:09.373Z"
   },
   {
    "duration": 7,
    "start_time": "2024-10-31T06:22:09.516Z"
   },
   {
    "duration": 4,
    "start_time": "2024-10-31T06:22:10.275Z"
   },
   {
    "duration": 4,
    "start_time": "2024-10-31T06:22:10.691Z"
   },
   {
    "duration": 2254,
    "start_time": "2024-10-31T06:22:11.123Z"
   },
   {
    "duration": 4,
    "start_time": "2024-10-31T06:22:13.380Z"
   },
   {
    "duration": 27,
    "start_time": "2024-10-31T06:22:13.385Z"
   },
   {
    "duration": 4,
    "start_time": "2024-10-31T06:22:13.414Z"
   },
   {
    "duration": 401,
    "start_time": "2024-10-31T06:22:13.419Z"
   },
   {
    "duration": 2556,
    "start_time": "2024-10-31T06:23:36.386Z"
   },
   {
    "duration": 1611,
    "start_time": "2024-10-31T06:23:38.945Z"
   },
   {
    "duration": 1117,
    "start_time": "2024-10-31T06:23:40.558Z"
   },
   {
    "duration": 12,
    "start_time": "2024-10-31T06:23:41.677Z"
   },
   {
    "duration": 32,
    "start_time": "2024-10-31T06:23:41.708Z"
   },
   {
    "duration": 170,
    "start_time": "2024-10-31T06:23:41.742Z"
   },
   {
    "duration": 6,
    "start_time": "2024-10-31T06:23:41.914Z"
   },
   {
    "duration": 17,
    "start_time": "2024-10-31T06:23:41.922Z"
   },
   {
    "duration": 53,
    "start_time": "2024-10-31T06:23:41.941Z"
   },
   {
    "duration": 2264,
    "start_time": "2024-10-31T06:23:41.997Z"
   },
   {
    "duration": 4,
    "start_time": "2024-10-31T06:23:44.263Z"
   },
   {
    "duration": 9,
    "start_time": "2024-10-31T06:23:44.268Z"
   },
   {
    "duration": 24,
    "start_time": "2024-10-31T06:23:44.279Z"
   },
   {
    "duration": 377,
    "start_time": "2024-10-31T06:23:44.305Z"
   },
   {
    "duration": 0,
    "start_time": "2024-10-31T06:23:44.684Z"
   },
   {
    "duration": 1,
    "start_time": "2024-10-31T06:23:44.685Z"
   },
   {
    "duration": 0,
    "start_time": "2024-10-31T06:23:44.687Z"
   },
   {
    "duration": 0,
    "start_time": "2024-10-31T06:23:44.688Z"
   },
   {
    "duration": 0,
    "start_time": "2024-10-31T06:23:44.690Z"
   },
   {
    "duration": 0,
    "start_time": "2024-10-31T06:23:44.691Z"
   },
   {
    "duration": 0,
    "start_time": "2024-10-31T06:23:44.693Z"
   },
   {
    "duration": 0,
    "start_time": "2024-10-31T06:23:44.694Z"
   },
   {
    "duration": 0,
    "start_time": "2024-10-31T06:23:44.695Z"
   },
   {
    "duration": 0,
    "start_time": "2024-10-31T06:23:44.697Z"
   },
   {
    "duration": 0,
    "start_time": "2024-10-31T06:23:44.698Z"
   },
   {
    "duration": 0,
    "start_time": "2024-10-31T06:23:44.699Z"
   },
   {
    "duration": 0,
    "start_time": "2024-10-31T06:23:44.700Z"
   },
   {
    "duration": 0,
    "start_time": "2024-10-31T06:23:44.702Z"
   },
   {
    "duration": 0,
    "start_time": "2024-10-31T06:23:44.703Z"
   },
   {
    "duration": 0,
    "start_time": "2024-10-31T06:23:44.704Z"
   },
   {
    "duration": 0,
    "start_time": "2024-10-31T06:23:44.705Z"
   },
   {
    "duration": 0,
    "start_time": "2024-10-31T06:23:44.706Z"
   },
   {
    "duration": 0,
    "start_time": "2024-10-31T06:23:44.708Z"
   },
   {
    "duration": 0,
    "start_time": "2024-10-31T06:23:44.709Z"
   },
   {
    "duration": 0,
    "start_time": "2024-10-31T06:23:44.710Z"
   },
   {
    "duration": 657,
    "start_time": "2024-10-31T06:24:28.876Z"
   },
   {
    "duration": 1762,
    "start_time": "2024-10-31T06:24:35.059Z"
   },
   {
    "duration": 54,
    "start_time": "2024-10-31T06:24:54.059Z"
   },
   {
    "duration": 441,
    "start_time": "2024-10-31T06:24:59.970Z"
   },
   {
    "duration": 637,
    "start_time": "2024-10-31T06:26:20.514Z"
   },
   {
    "duration": 401,
    "start_time": "2024-10-31T06:26:24.823Z"
   },
   {
    "duration": 679,
    "start_time": "2024-10-31T06:27:46.316Z"
   },
   {
    "duration": 390,
    "start_time": "2024-10-31T06:27:54.521Z"
   },
   {
    "duration": 2509,
    "start_time": "2024-10-31T06:28:16.930Z"
   },
   {
    "duration": 1939,
    "start_time": "2024-10-31T06:28:19.441Z"
   },
   {
    "duration": 1165,
    "start_time": "2024-10-31T06:28:21.382Z"
   },
   {
    "duration": 13,
    "start_time": "2024-10-31T06:28:22.549Z"
   },
   {
    "duration": 119,
    "start_time": "2024-10-31T06:28:22.563Z"
   },
   {
    "duration": 141,
    "start_time": "2024-10-31T06:28:22.684Z"
   },
   {
    "duration": 8,
    "start_time": "2024-10-31T06:28:22.827Z"
   },
   {
    "duration": 21,
    "start_time": "2024-10-31T06:28:22.836Z"
   },
   {
    "duration": 11,
    "start_time": "2024-10-31T06:28:22.859Z"
   },
   {
    "duration": 2361,
    "start_time": "2024-10-31T06:28:22.873Z"
   },
   {
    "duration": 5,
    "start_time": "2024-10-31T06:28:25.236Z"
   },
   {
    "duration": 102,
    "start_time": "2024-10-31T06:28:25.242Z"
   },
   {
    "duration": 30,
    "start_time": "2024-10-31T06:28:25.345Z"
   },
   {
    "duration": 1854,
    "start_time": "2024-10-31T06:28:25.376Z"
   },
   {
    "duration": 0,
    "start_time": "2024-10-31T06:28:27.232Z"
   },
   {
    "duration": 0,
    "start_time": "2024-10-31T06:28:27.234Z"
   },
   {
    "duration": 0,
    "start_time": "2024-10-31T06:28:27.235Z"
   },
   {
    "duration": 0,
    "start_time": "2024-10-31T06:28:27.236Z"
   },
   {
    "duration": 0,
    "start_time": "2024-10-31T06:28:27.237Z"
   },
   {
    "duration": 0,
    "start_time": "2024-10-31T06:28:27.238Z"
   },
   {
    "duration": 0,
    "start_time": "2024-10-31T06:28:27.240Z"
   },
   {
    "duration": 0,
    "start_time": "2024-10-31T06:28:27.241Z"
   },
   {
    "duration": 0,
    "start_time": "2024-10-31T06:28:27.242Z"
   },
   {
    "duration": 0,
    "start_time": "2024-10-31T06:28:27.243Z"
   },
   {
    "duration": 0,
    "start_time": "2024-10-31T06:28:27.245Z"
   },
   {
    "duration": 0,
    "start_time": "2024-10-31T06:28:27.246Z"
   },
   {
    "duration": 0,
    "start_time": "2024-10-31T06:28:27.247Z"
   },
   {
    "duration": 0,
    "start_time": "2024-10-31T06:28:27.248Z"
   },
   {
    "duration": 0,
    "start_time": "2024-10-31T06:28:27.249Z"
   },
   {
    "duration": 0,
    "start_time": "2024-10-31T06:28:27.251Z"
   },
   {
    "duration": 0,
    "start_time": "2024-10-31T06:28:27.252Z"
   },
   {
    "duration": 0,
    "start_time": "2024-10-31T06:28:27.253Z"
   },
   {
    "duration": 0,
    "start_time": "2024-10-31T06:28:27.254Z"
   },
   {
    "duration": 0,
    "start_time": "2024-10-31T06:28:27.255Z"
   },
   {
    "duration": 0,
    "start_time": "2024-10-31T06:28:27.256Z"
   },
   {
    "duration": 9,
    "start_time": "2024-10-31T06:32:37.078Z"
   },
   {
    "duration": 402,
    "start_time": "2024-10-31T06:32:51.942Z"
   },
   {
    "duration": 2484,
    "start_time": "2024-10-31T06:33:09.284Z"
   },
   {
    "duration": 1920,
    "start_time": "2024-10-31T06:33:11.771Z"
   },
   {
    "duration": 1143,
    "start_time": "2024-10-31T06:33:13.692Z"
   },
   {
    "duration": 12,
    "start_time": "2024-10-31T06:33:14.837Z"
   },
   {
    "duration": 32,
    "start_time": "2024-10-31T06:33:14.851Z"
   },
   {
    "duration": 157,
    "start_time": "2024-10-31T06:33:14.885Z"
   },
   {
    "duration": 7,
    "start_time": "2024-10-31T06:33:15.044Z"
   },
   {
    "duration": 33,
    "start_time": "2024-10-31T06:33:15.053Z"
   },
   {
    "duration": 30,
    "start_time": "2024-10-31T06:33:15.087Z"
   },
   {
    "duration": 2333,
    "start_time": "2024-10-31T06:33:15.120Z"
   },
   {
    "duration": 4,
    "start_time": "2024-10-31T06:33:17.456Z"
   },
   {
    "duration": 8,
    "start_time": "2024-10-31T06:33:17.462Z"
   },
   {
    "duration": 46,
    "start_time": "2024-10-31T06:33:17.471Z"
   },
   {
    "duration": 138,
    "start_time": "2024-10-31T06:33:17.519Z"
   },
   {
    "duration": 0,
    "start_time": "2024-10-31T06:33:17.659Z"
   },
   {
    "duration": 0,
    "start_time": "2024-10-31T06:33:17.660Z"
   },
   {
    "duration": 0,
    "start_time": "2024-10-31T06:33:17.661Z"
   },
   {
    "duration": 0,
    "start_time": "2024-10-31T06:33:17.662Z"
   },
   {
    "duration": 0,
    "start_time": "2024-10-31T06:33:17.663Z"
   },
   {
    "duration": 0,
    "start_time": "2024-10-31T06:33:17.664Z"
   },
   {
    "duration": 0,
    "start_time": "2024-10-31T06:33:17.664Z"
   },
   {
    "duration": 0,
    "start_time": "2024-10-31T06:33:17.666Z"
   },
   {
    "duration": 0,
    "start_time": "2024-10-31T06:33:17.666Z"
   },
   {
    "duration": 0,
    "start_time": "2024-10-31T06:33:17.668Z"
   },
   {
    "duration": 0,
    "start_time": "2024-10-31T06:33:17.669Z"
   },
   {
    "duration": 0,
    "start_time": "2024-10-31T06:33:17.670Z"
   },
   {
    "duration": 0,
    "start_time": "2024-10-31T06:33:17.671Z"
   },
   {
    "duration": 0,
    "start_time": "2024-10-31T06:33:17.672Z"
   },
   {
    "duration": 0,
    "start_time": "2024-10-31T06:33:17.672Z"
   },
   {
    "duration": 0,
    "start_time": "2024-10-31T06:33:17.673Z"
   },
   {
    "duration": 0,
    "start_time": "2024-10-31T06:33:17.701Z"
   },
   {
    "duration": 0,
    "start_time": "2024-10-31T06:33:17.702Z"
   },
   {
    "duration": 0,
    "start_time": "2024-10-31T06:33:17.703Z"
   },
   {
    "duration": 0,
    "start_time": "2024-10-31T06:33:17.704Z"
   },
   {
    "duration": 0,
    "start_time": "2024-10-31T06:33:17.705Z"
   },
   {
    "duration": 79,
    "start_time": "2024-10-31T06:43:35.089Z"
   },
   {
    "duration": 0,
    "start_time": "2024-10-31T06:43:35.172Z"
   },
   {
    "duration": 0,
    "start_time": "2024-10-31T06:43:35.173Z"
   },
   {
    "duration": 0,
    "start_time": "2024-10-31T06:43:35.175Z"
   },
   {
    "duration": 0,
    "start_time": "2024-10-31T06:43:35.176Z"
   },
   {
    "duration": 0,
    "start_time": "2024-10-31T06:43:35.178Z"
   },
   {
    "duration": 0,
    "start_time": "2024-10-31T06:43:35.179Z"
   },
   {
    "duration": 0,
    "start_time": "2024-10-31T06:43:35.181Z"
   },
   {
    "duration": 0,
    "start_time": "2024-10-31T06:43:35.182Z"
   },
   {
    "duration": 0,
    "start_time": "2024-10-31T06:43:35.183Z"
   },
   {
    "duration": 0,
    "start_time": "2024-10-31T06:43:35.185Z"
   },
   {
    "duration": 0,
    "start_time": "2024-10-31T06:43:35.186Z"
   },
   {
    "duration": 0,
    "start_time": "2024-10-31T06:43:35.188Z"
   },
   {
    "duration": 0,
    "start_time": "2024-10-31T06:43:35.189Z"
   },
   {
    "duration": 0,
    "start_time": "2024-10-31T06:43:35.190Z"
   },
   {
    "duration": 0,
    "start_time": "2024-10-31T06:43:35.192Z"
   },
   {
    "duration": 0,
    "start_time": "2024-10-31T06:43:35.193Z"
   },
   {
    "duration": 0,
    "start_time": "2024-10-31T06:43:35.195Z"
   },
   {
    "duration": 0,
    "start_time": "2024-10-31T06:43:35.196Z"
   },
   {
    "duration": 0,
    "start_time": "2024-10-31T06:43:35.198Z"
   },
   {
    "duration": 0,
    "start_time": "2024-10-31T06:43:35.201Z"
   },
   {
    "duration": 0,
    "start_time": "2024-10-31T06:43:35.205Z"
   },
   {
    "duration": 0,
    "start_time": "2024-10-31T06:43:35.206Z"
   },
   {
    "duration": 4,
    "start_time": "2024-10-31T06:43:35.212Z"
   },
   {
    "duration": 95,
    "start_time": "2024-10-31T06:43:35.218Z"
   },
   {
    "duration": 0,
    "start_time": "2024-10-31T06:43:35.314Z"
   },
   {
    "duration": 0,
    "start_time": "2024-10-31T06:43:35.316Z"
   },
   {
    "duration": 0,
    "start_time": "2024-10-31T06:43:35.317Z"
   },
   {
    "duration": 0,
    "start_time": "2024-10-31T06:43:35.318Z"
   },
   {
    "duration": 0,
    "start_time": "2024-10-31T06:43:35.320Z"
   },
   {
    "duration": 0,
    "start_time": "2024-10-31T06:43:35.321Z"
   },
   {
    "duration": 0,
    "start_time": "2024-10-31T06:43:35.322Z"
   },
   {
    "duration": 0,
    "start_time": "2024-10-31T06:43:35.323Z"
   },
   {
    "duration": 0,
    "start_time": "2024-10-31T06:43:35.324Z"
   },
   {
    "duration": 0,
    "start_time": "2024-10-31T06:43:35.325Z"
   },
   {
    "duration": 2553,
    "start_time": "2024-10-31T06:43:54.236Z"
   },
   {
    "duration": 2094,
    "start_time": "2024-10-31T06:43:56.791Z"
   },
   {
    "duration": 0,
    "start_time": "2024-10-31T06:43:58.972Z"
   },
   {
    "duration": 0,
    "start_time": "2024-10-31T06:43:58.974Z"
   },
   {
    "duration": 0,
    "start_time": "2024-10-31T06:43:58.975Z"
   },
   {
    "duration": 0,
    "start_time": "2024-10-31T06:43:58.976Z"
   },
   {
    "duration": 0,
    "start_time": "2024-10-31T06:43:58.977Z"
   },
   {
    "duration": 0,
    "start_time": "2024-10-31T06:43:58.978Z"
   },
   {
    "duration": 0,
    "start_time": "2024-10-31T06:43:58.979Z"
   },
   {
    "duration": 0,
    "start_time": "2024-10-31T06:43:58.980Z"
   },
   {
    "duration": 0,
    "start_time": "2024-10-31T06:43:58.981Z"
   },
   {
    "duration": 0,
    "start_time": "2024-10-31T06:43:58.982Z"
   },
   {
    "duration": 0,
    "start_time": "2024-10-31T06:43:58.983Z"
   },
   {
    "duration": 0,
    "start_time": "2024-10-31T06:43:58.984Z"
   },
   {
    "duration": 1,
    "start_time": "2024-10-31T06:43:59.003Z"
   },
   {
    "duration": 0,
    "start_time": "2024-10-31T06:43:59.005Z"
   },
   {
    "duration": 0,
    "start_time": "2024-10-31T06:43:59.005Z"
   },
   {
    "duration": 0,
    "start_time": "2024-10-31T06:43:59.006Z"
   },
   {
    "duration": 0,
    "start_time": "2024-10-31T06:43:59.007Z"
   },
   {
    "duration": 0,
    "start_time": "2024-10-31T06:43:59.008Z"
   },
   {
    "duration": 0,
    "start_time": "2024-10-31T06:43:59.009Z"
   },
   {
    "duration": 0,
    "start_time": "2024-10-31T06:43:59.015Z"
   },
   {
    "duration": 0,
    "start_time": "2024-10-31T06:43:59.019Z"
   },
   {
    "duration": 0,
    "start_time": "2024-10-31T06:43:59.020Z"
   },
   {
    "duration": 0,
    "start_time": "2024-10-31T06:43:59.021Z"
   },
   {
    "duration": 0,
    "start_time": "2024-10-31T06:43:59.022Z"
   },
   {
    "duration": 0,
    "start_time": "2024-10-31T06:43:59.023Z"
   },
   {
    "duration": 0,
    "start_time": "2024-10-31T06:43:59.024Z"
   },
   {
    "duration": 0,
    "start_time": "2024-10-31T06:43:59.026Z"
   },
   {
    "duration": 0,
    "start_time": "2024-10-31T06:43:59.027Z"
   },
   {
    "duration": 0,
    "start_time": "2024-10-31T06:43:59.027Z"
   },
   {
    "duration": 0,
    "start_time": "2024-10-31T06:43:59.028Z"
   },
   {
    "duration": 0,
    "start_time": "2024-10-31T06:43:59.029Z"
   },
   {
    "duration": 0,
    "start_time": "2024-10-31T06:43:59.030Z"
   },
   {
    "duration": 0,
    "start_time": "2024-10-31T06:43:59.032Z"
   },
   {
    "duration": 97,
    "start_time": "2024-10-31T06:44:22.643Z"
   },
   {
    "duration": 77,
    "start_time": "2024-10-31T06:44:33.811Z"
   },
   {
    "duration": 83,
    "start_time": "2024-10-31T06:44:53.462Z"
   },
   {
    "duration": 2531,
    "start_time": "2024-10-31T06:45:40.109Z"
   },
   {
    "duration": 1912,
    "start_time": "2024-10-31T06:45:42.642Z"
   },
   {
    "duration": 1170,
    "start_time": "2024-10-31T06:45:44.558Z"
   },
   {
    "duration": 13,
    "start_time": "2024-10-31T06:45:45.730Z"
   },
   {
    "duration": 46,
    "start_time": "2024-10-31T06:45:45.744Z"
   },
   {
    "duration": 151,
    "start_time": "2024-10-31T06:45:45.792Z"
   },
   {
    "duration": 7,
    "start_time": "2024-10-31T06:45:45.944Z"
   },
   {
    "duration": 18,
    "start_time": "2024-10-31T06:45:45.952Z"
   },
   {
    "duration": 6,
    "start_time": "2024-10-31T06:45:45.971Z"
   },
   {
    "duration": 2244,
    "start_time": "2024-10-31T06:45:45.979Z"
   },
   {
    "duration": 5,
    "start_time": "2024-10-31T06:45:48.226Z"
   },
   {
    "duration": 28,
    "start_time": "2024-10-31T06:45:48.232Z"
   },
   {
    "duration": 21,
    "start_time": "2024-10-31T06:45:48.262Z"
   },
   {
    "duration": 2651,
    "start_time": "2024-10-31T07:21:06.556Z"
   },
   {
    "duration": 1970,
    "start_time": "2024-10-31T07:21:09.211Z"
   },
   {
    "duration": 1208,
    "start_time": "2024-10-31T07:21:11.183Z"
   },
   {
    "duration": 26,
    "start_time": "2024-10-31T07:21:12.393Z"
   },
   {
    "duration": 110,
    "start_time": "2024-10-31T07:21:12.421Z"
   },
   {
    "duration": 153,
    "start_time": "2024-10-31T07:21:12.532Z"
   },
   {
    "duration": 22,
    "start_time": "2024-10-31T07:21:12.687Z"
   },
   {
    "duration": 9,
    "start_time": "2024-10-31T07:21:12.710Z"
   },
   {
    "duration": 30,
    "start_time": "2024-10-31T07:21:12.720Z"
   },
   {
    "duration": 2334,
    "start_time": "2024-10-31T07:21:12.752Z"
   },
   {
    "duration": 4,
    "start_time": "2024-10-31T07:21:15.089Z"
   },
   {
    "duration": 59,
    "start_time": "2024-10-31T07:21:15.101Z"
   },
   {
    "duration": 48,
    "start_time": "2024-10-31T07:21:15.162Z"
   },
   {
    "duration": 2469,
    "start_time": "2024-10-31T07:26:01.200Z"
   },
   {
    "duration": 1957,
    "start_time": "2024-10-31T07:26:03.671Z"
   },
   {
    "duration": 1178,
    "start_time": "2024-10-31T07:26:05.629Z"
   },
   {
    "duration": 12,
    "start_time": "2024-10-31T07:26:06.810Z"
   },
   {
    "duration": 55,
    "start_time": "2024-10-31T07:26:06.823Z"
   },
   {
    "duration": 164,
    "start_time": "2024-10-31T07:26:06.880Z"
   },
   {
    "duration": 7,
    "start_time": "2024-10-31T07:26:07.045Z"
   },
   {
    "duration": 61,
    "start_time": "2024-10-31T07:26:07.053Z"
   },
   {
    "duration": 28,
    "start_time": "2024-10-31T07:26:07.115Z"
   },
   {
    "duration": 2348,
    "start_time": "2024-10-31T07:26:07.145Z"
   },
   {
    "duration": 12,
    "start_time": "2024-10-31T07:26:09.495Z"
   },
   {
    "duration": 111,
    "start_time": "2024-10-31T07:26:09.516Z"
   },
   {
    "duration": 32,
    "start_time": "2024-10-31T07:26:09.629Z"
   },
   {
    "duration": 163,
    "start_time": "2024-10-31T07:26:09.663Z"
   },
   {
    "duration": 0,
    "start_time": "2024-10-31T07:26:09.828Z"
   },
   {
    "duration": 0,
    "start_time": "2024-10-31T07:26:09.829Z"
   },
   {
    "duration": 0,
    "start_time": "2024-10-31T07:26:09.829Z"
   },
   {
    "duration": 0,
    "start_time": "2024-10-31T07:26:09.831Z"
   },
   {
    "duration": 0,
    "start_time": "2024-10-31T07:26:09.832Z"
   },
   {
    "duration": 0,
    "start_time": "2024-10-31T07:26:09.833Z"
   },
   {
    "duration": 0,
    "start_time": "2024-10-31T07:26:09.834Z"
   },
   {
    "duration": 0,
    "start_time": "2024-10-31T07:26:09.835Z"
   },
   {
    "duration": 0,
    "start_time": "2024-10-31T07:26:09.836Z"
   },
   {
    "duration": 0,
    "start_time": "2024-10-31T07:26:09.836Z"
   },
   {
    "duration": 0,
    "start_time": "2024-10-31T07:26:09.837Z"
   },
   {
    "duration": 0,
    "start_time": "2024-10-31T07:26:09.838Z"
   },
   {
    "duration": 0,
    "start_time": "2024-10-31T07:26:09.839Z"
   },
   {
    "duration": 0,
    "start_time": "2024-10-31T07:26:09.840Z"
   },
   {
    "duration": 0,
    "start_time": "2024-10-31T07:26:09.841Z"
   },
   {
    "duration": 0,
    "start_time": "2024-10-31T07:26:09.842Z"
   },
   {
    "duration": 0,
    "start_time": "2024-10-31T07:26:09.843Z"
   },
   {
    "duration": 0,
    "start_time": "2024-10-31T07:26:09.844Z"
   },
   {
    "duration": 0,
    "start_time": "2024-10-31T07:26:09.845Z"
   },
   {
    "duration": 0,
    "start_time": "2024-10-31T07:26:09.846Z"
   },
   {
    "duration": 0,
    "start_time": "2024-10-31T07:26:09.847Z"
   },
   {
    "duration": 1839,
    "start_time": "2024-10-31T07:26:19.399Z"
   },
   {
    "duration": 8,
    "start_time": "2024-10-31T07:27:22.661Z"
   },
   {
    "duration": 418,
    "start_time": "2024-10-31T07:27:27.589Z"
   },
   {
    "duration": 2379,
    "start_time": "2024-10-31T08:18:20.287Z"
   },
   {
    "duration": 1853,
    "start_time": "2024-10-31T08:18:22.668Z"
   },
   {
    "duration": 1158,
    "start_time": "2024-10-31T08:18:24.522Z"
   },
   {
    "duration": 22,
    "start_time": "2024-10-31T08:18:25.682Z"
   },
   {
    "duration": 33,
    "start_time": "2024-10-31T08:18:25.706Z"
   },
   {
    "duration": 201,
    "start_time": "2024-10-31T08:18:25.741Z"
   },
   {
    "duration": 7,
    "start_time": "2024-10-31T08:18:25.944Z"
   },
   {
    "duration": 11,
    "start_time": "2024-10-31T08:18:25.952Z"
   },
   {
    "duration": 12,
    "start_time": "2024-10-31T08:18:25.965Z"
   },
   {
    "duration": 2136,
    "start_time": "2024-10-31T08:18:25.979Z"
   },
   {
    "duration": 4,
    "start_time": "2024-10-31T08:18:28.117Z"
   },
   {
    "duration": 13,
    "start_time": "2024-10-31T08:18:28.123Z"
   },
   {
    "duration": 32,
    "start_time": "2024-10-31T08:18:28.138Z"
   },
   {
    "duration": 1867,
    "start_time": "2024-10-31T08:18:28.172Z"
   },
   {
    "duration": 0,
    "start_time": "2024-10-31T08:18:30.041Z"
   },
   {
    "duration": 0,
    "start_time": "2024-10-31T08:18:30.043Z"
   },
   {
    "duration": 0,
    "start_time": "2024-10-31T08:18:30.045Z"
   },
   {
    "duration": 0,
    "start_time": "2024-10-31T08:18:30.046Z"
   },
   {
    "duration": 0,
    "start_time": "2024-10-31T08:18:30.047Z"
   },
   {
    "duration": 0,
    "start_time": "2024-10-31T08:18:30.049Z"
   },
   {
    "duration": 0,
    "start_time": "2024-10-31T08:18:30.050Z"
   },
   {
    "duration": 0,
    "start_time": "2024-10-31T08:18:30.052Z"
   },
   {
    "duration": 0,
    "start_time": "2024-10-31T08:18:30.053Z"
   },
   {
    "duration": 0,
    "start_time": "2024-10-31T08:18:30.055Z"
   },
   {
    "duration": 0,
    "start_time": "2024-10-31T08:18:30.056Z"
   },
   {
    "duration": 0,
    "start_time": "2024-10-31T08:18:30.058Z"
   },
   {
    "duration": 0,
    "start_time": "2024-10-31T08:18:30.060Z"
   },
   {
    "duration": 0,
    "start_time": "2024-10-31T08:18:30.061Z"
   },
   {
    "duration": 0,
    "start_time": "2024-10-31T08:18:30.063Z"
   },
   {
    "duration": 0,
    "start_time": "2024-10-31T08:18:30.066Z"
   },
   {
    "duration": 1,
    "start_time": "2024-10-31T08:18:30.067Z"
   },
   {
    "duration": 0,
    "start_time": "2024-10-31T08:18:30.069Z"
   },
   {
    "duration": 0,
    "start_time": "2024-10-31T08:18:30.071Z"
   },
   {
    "duration": 0,
    "start_time": "2024-10-31T08:18:30.072Z"
   },
   {
    "duration": 0,
    "start_time": "2024-10-31T08:18:30.074Z"
   },
   {
    "duration": 2421,
    "start_time": "2024-10-31T08:21:20.019Z"
   },
   {
    "duration": 1753,
    "start_time": "2024-10-31T08:21:22.442Z"
   },
   {
    "duration": 1101,
    "start_time": "2024-10-31T08:21:24.199Z"
   },
   {
    "duration": 12,
    "start_time": "2024-10-31T08:21:25.303Z"
   },
   {
    "duration": 61,
    "start_time": "2024-10-31T08:21:25.317Z"
   },
   {
    "duration": 124,
    "start_time": "2024-10-31T08:21:25.380Z"
   },
   {
    "duration": 6,
    "start_time": "2024-10-31T08:21:25.507Z"
   },
   {
    "duration": 22,
    "start_time": "2024-10-31T08:21:25.515Z"
   },
   {
    "duration": 6,
    "start_time": "2024-10-31T08:21:25.538Z"
   },
   {
    "duration": 2081,
    "start_time": "2024-10-31T08:21:25.546Z"
   },
   {
    "duration": 4,
    "start_time": "2024-10-31T08:21:27.629Z"
   },
   {
    "duration": 56,
    "start_time": "2024-10-31T08:21:27.635Z"
   },
   {
    "duration": 22,
    "start_time": "2024-10-31T08:21:27.693Z"
   },
   {
    "duration": 1809,
    "start_time": "2024-10-31T08:21:27.717Z"
   },
   {
    "duration": 0,
    "start_time": "2024-10-31T08:21:29.528Z"
   },
   {
    "duration": 0,
    "start_time": "2024-10-31T08:21:29.530Z"
   },
   {
    "duration": 0,
    "start_time": "2024-10-31T08:21:29.531Z"
   },
   {
    "duration": 0,
    "start_time": "2024-10-31T08:21:29.532Z"
   },
   {
    "duration": 0,
    "start_time": "2024-10-31T08:21:29.532Z"
   },
   {
    "duration": 0,
    "start_time": "2024-10-31T08:21:29.533Z"
   },
   {
    "duration": 0,
    "start_time": "2024-10-31T08:21:29.534Z"
   },
   {
    "duration": 0,
    "start_time": "2024-10-31T08:21:29.535Z"
   },
   {
    "duration": 0,
    "start_time": "2024-10-31T08:21:29.536Z"
   },
   {
    "duration": 0,
    "start_time": "2024-10-31T08:21:29.537Z"
   },
   {
    "duration": 0,
    "start_time": "2024-10-31T08:21:29.538Z"
   },
   {
    "duration": 0,
    "start_time": "2024-10-31T08:21:29.539Z"
   },
   {
    "duration": 0,
    "start_time": "2024-10-31T08:21:29.540Z"
   },
   {
    "duration": 0,
    "start_time": "2024-10-31T08:21:29.542Z"
   },
   {
    "duration": 0,
    "start_time": "2024-10-31T08:21:29.543Z"
   },
   {
    "duration": 0,
    "start_time": "2024-10-31T08:21:29.544Z"
   },
   {
    "duration": 0,
    "start_time": "2024-10-31T08:21:29.545Z"
   },
   {
    "duration": 0,
    "start_time": "2024-10-31T08:21:29.546Z"
   },
   {
    "duration": 0,
    "start_time": "2024-10-31T08:21:29.547Z"
   },
   {
    "duration": 0,
    "start_time": "2024-10-31T08:21:29.548Z"
   },
   {
    "duration": 0,
    "start_time": "2024-10-31T08:21:29.549Z"
   },
   {
    "duration": 2556,
    "start_time": "2024-10-31T08:25:28.910Z"
   },
   {
    "duration": 1882,
    "start_time": "2024-10-31T08:25:31.468Z"
   },
   {
    "duration": 1188,
    "start_time": "2024-10-31T08:25:33.351Z"
   },
   {
    "duration": 17,
    "start_time": "2024-10-31T08:25:34.541Z"
   },
   {
    "duration": 101,
    "start_time": "2024-10-31T08:25:34.561Z"
   },
   {
    "duration": 141,
    "start_time": "2024-10-31T08:25:34.664Z"
   },
   {
    "duration": 6,
    "start_time": "2024-10-31T08:25:34.806Z"
   },
   {
    "duration": 15,
    "start_time": "2024-10-31T08:25:34.813Z"
   },
   {
    "duration": 37,
    "start_time": "2024-10-31T08:25:34.830Z"
   },
   {
    "duration": 2211,
    "start_time": "2024-10-31T08:25:34.870Z"
   },
   {
    "duration": 4,
    "start_time": "2024-10-31T08:25:37.083Z"
   },
   {
    "duration": 15,
    "start_time": "2024-10-31T08:25:37.100Z"
   },
   {
    "duration": 396,
    "start_time": "2024-10-31T08:25:37.117Z"
   },
   {
    "duration": 0,
    "start_time": "2024-10-31T08:25:37.515Z"
   },
   {
    "duration": 0,
    "start_time": "2024-10-31T08:25:37.516Z"
   },
   {
    "duration": 0,
    "start_time": "2024-10-31T08:25:37.518Z"
   },
   {
    "duration": 0,
    "start_time": "2024-10-31T08:25:37.519Z"
   },
   {
    "duration": 0,
    "start_time": "2024-10-31T08:25:37.520Z"
   },
   {
    "duration": 0,
    "start_time": "2024-10-31T08:25:37.521Z"
   },
   {
    "duration": 0,
    "start_time": "2024-10-31T08:25:37.523Z"
   },
   {
    "duration": 0,
    "start_time": "2024-10-31T08:25:37.524Z"
   },
   {
    "duration": 0,
    "start_time": "2024-10-31T08:25:37.525Z"
   },
   {
    "duration": 0,
    "start_time": "2024-10-31T08:25:37.527Z"
   },
   {
    "duration": 0,
    "start_time": "2024-10-31T08:25:37.528Z"
   },
   {
    "duration": 0,
    "start_time": "2024-10-31T08:25:37.529Z"
   },
   {
    "duration": 0,
    "start_time": "2024-10-31T08:25:37.530Z"
   },
   {
    "duration": 0,
    "start_time": "2024-10-31T08:25:37.531Z"
   },
   {
    "duration": 0,
    "start_time": "2024-10-31T08:25:37.532Z"
   },
   {
    "duration": 0,
    "start_time": "2024-10-31T08:25:37.533Z"
   },
   {
    "duration": 0,
    "start_time": "2024-10-31T08:25:37.534Z"
   },
   {
    "duration": 0,
    "start_time": "2024-10-31T08:25:37.536Z"
   },
   {
    "duration": 0,
    "start_time": "2024-10-31T08:25:37.537Z"
   },
   {
    "duration": 0,
    "start_time": "2024-10-31T08:25:37.538Z"
   },
   {
    "duration": 0,
    "start_time": "2024-10-31T08:25:37.539Z"
   },
   {
    "duration": 3,
    "start_time": "2024-10-31T08:25:58.883Z"
   },
   {
    "duration": 84901,
    "start_time": "2024-10-31T08:26:01.259Z"
   },
   {
    "duration": 4,
    "start_time": "2024-10-31T08:27:32.938Z"
   },
   {
    "duration": 185,
    "start_time": "2024-10-31T08:27:34.594Z"
   },
   {
    "duration": 212,
    "start_time": "2024-10-31T08:27:35.953Z"
   },
   {
    "duration": 10,
    "start_time": "2024-10-31T08:27:36.369Z"
   },
   {
    "duration": 32,
    "start_time": "2024-10-31T08:27:41.130Z"
   },
   {
    "duration": 2461,
    "start_time": "2024-10-31T08:28:19.157Z"
   },
   {
    "duration": 2179,
    "start_time": "2024-10-31T08:28:21.620Z"
   },
   {
    "duration": 1269,
    "start_time": "2024-10-31T08:28:23.802Z"
   },
   {
    "duration": 35,
    "start_time": "2024-10-31T08:28:25.073Z"
   },
   {
    "duration": 56,
    "start_time": "2024-10-31T08:28:25.112Z"
   },
   {
    "duration": 185,
    "start_time": "2024-10-31T08:28:25.170Z"
   },
   {
    "duration": 7,
    "start_time": "2024-10-31T08:28:25.357Z"
   },
   {
    "duration": 4,
    "start_time": "2024-10-31T08:28:25.366Z"
   },
   {
    "duration": 28,
    "start_time": "2024-10-31T08:28:25.372Z"
   },
   {
    "duration": 2171,
    "start_time": "2024-10-31T08:28:25.403Z"
   },
   {
    "duration": 5,
    "start_time": "2024-10-31T08:28:27.576Z"
   },
   {
    "duration": 15,
    "start_time": "2024-10-31T08:28:27.582Z"
   },
   {
    "duration": 23,
    "start_time": "2024-10-31T08:28:27.600Z"
   },
   {
    "duration": 1864,
    "start_time": "2024-10-31T08:28:27.626Z"
   },
   {
    "duration": 0,
    "start_time": "2024-10-31T08:28:29.491Z"
   },
   {
    "duration": 0,
    "start_time": "2024-10-31T08:28:29.493Z"
   },
   {
    "duration": 0,
    "start_time": "2024-10-31T08:28:29.494Z"
   },
   {
    "duration": 0,
    "start_time": "2024-10-31T08:28:29.495Z"
   },
   {
    "duration": 0,
    "start_time": "2024-10-31T08:28:29.496Z"
   },
   {
    "duration": 0,
    "start_time": "2024-10-31T08:28:29.497Z"
   },
   {
    "duration": 0,
    "start_time": "2024-10-31T08:28:29.498Z"
   },
   {
    "duration": 0,
    "start_time": "2024-10-31T08:28:29.500Z"
   },
   {
    "duration": 0,
    "start_time": "2024-10-31T08:28:29.501Z"
   },
   {
    "duration": 0,
    "start_time": "2024-10-31T08:28:29.502Z"
   },
   {
    "duration": 0,
    "start_time": "2024-10-31T08:28:29.503Z"
   },
   {
    "duration": 0,
    "start_time": "2024-10-31T08:28:29.504Z"
   },
   {
    "duration": 0,
    "start_time": "2024-10-31T08:28:29.505Z"
   },
   {
    "duration": 0,
    "start_time": "2024-10-31T08:28:29.506Z"
   },
   {
    "duration": 0,
    "start_time": "2024-10-31T08:28:29.507Z"
   },
   {
    "duration": 0,
    "start_time": "2024-10-31T08:28:29.507Z"
   },
   {
    "duration": 0,
    "start_time": "2024-10-31T08:28:29.508Z"
   },
   {
    "duration": 0,
    "start_time": "2024-10-31T08:28:29.509Z"
   },
   {
    "duration": 0,
    "start_time": "2024-10-31T08:28:29.510Z"
   },
   {
    "duration": 0,
    "start_time": "2024-10-31T08:28:29.511Z"
   },
   {
    "duration": 0,
    "start_time": "2024-10-31T08:28:29.512Z"
   },
   {
    "duration": 12022,
    "start_time": "2024-10-31T11:00:52.004Z"
   },
   {
    "duration": 1630,
    "start_time": "2024-10-31T11:01:04.029Z"
   },
   {
    "duration": 17,
    "start_time": "2024-10-31T11:01:05.661Z"
   },
   {
    "duration": 78,
    "start_time": "2024-10-31T11:01:05.681Z"
   },
   {
    "duration": 181,
    "start_time": "2024-10-31T11:01:05.761Z"
   },
   {
    "duration": 8,
    "start_time": "2024-10-31T11:01:05.944Z"
   },
   {
    "duration": 83,
    "start_time": "2024-10-31T11:01:05.954Z"
   },
   {
    "duration": 68,
    "start_time": "2024-10-31T11:01:06.038Z"
   },
   {
    "duration": 2471,
    "start_time": "2024-10-31T11:01:06.108Z"
   },
   {
    "duration": 4,
    "start_time": "2024-10-31T11:01:08.582Z"
   },
   {
    "duration": 191,
    "start_time": "2024-10-31T11:01:08.588Z"
   },
   {
    "duration": 65,
    "start_time": "2024-10-31T11:01:08.781Z"
   },
   {
    "duration": 7,
    "start_time": "2024-10-31T11:01:08.848Z"
   },
   {
    "duration": 2466,
    "start_time": "2024-10-31T11:01:08.857Z"
   },
   {
    "duration": 5,
    "start_time": "2024-10-31T11:02:23.000Z"
   },
   {
    "duration": 891,
    "start_time": "2024-10-31T11:02:27.450Z"
   },
   {
    "duration": 470,
    "start_time": "2024-10-31T11:02:32.149Z"
   },
   {
    "duration": 542,
    "start_time": "2024-10-31T11:02:33.917Z"
   },
   {
    "duration": 5,
    "start_time": "2024-10-31T11:09:19.522Z"
   },
   {
    "duration": 5,
    "start_time": "2024-10-31T11:09:20.922Z"
   },
   {
    "duration": 3,
    "start_time": "2024-10-31T11:10:30.336Z"
   },
   {
    "duration": 77,
    "start_time": "2024-10-31T11:10:41.682Z"
   },
   {
    "duration": 0,
    "start_time": "2024-10-31T11:13:56.454Z"
   },
   {
    "duration": 0,
    "start_time": "2024-10-31T11:13:56.456Z"
   },
   {
    "duration": 0,
    "start_time": "2024-10-31T11:13:56.457Z"
   },
   {
    "duration": 0,
    "start_time": "2024-10-31T11:13:56.459Z"
   },
   {
    "duration": 0,
    "start_time": "2024-10-31T11:13:56.461Z"
   },
   {
    "duration": 0,
    "start_time": "2024-10-31T11:13:56.462Z"
   },
   {
    "duration": 0,
    "start_time": "2024-10-31T11:13:56.464Z"
   },
   {
    "duration": 0,
    "start_time": "2024-10-31T11:13:56.465Z"
   },
   {
    "duration": 0,
    "start_time": "2024-10-31T11:13:56.467Z"
   },
   {
    "duration": 0,
    "start_time": "2024-10-31T11:13:56.468Z"
   },
   {
    "duration": 0,
    "start_time": "2024-10-31T11:13:56.470Z"
   },
   {
    "duration": 0,
    "start_time": "2024-10-31T11:13:56.471Z"
   },
   {
    "duration": 0,
    "start_time": "2024-10-31T11:13:56.472Z"
   },
   {
    "duration": 0,
    "start_time": "2024-10-31T11:13:56.474Z"
   },
   {
    "duration": 6,
    "start_time": "2024-10-31T11:13:57.477Z"
   },
   {
    "duration": 1165,
    "start_time": "2024-10-31T11:13:58.861Z"
   },
   {
    "duration": 10,
    "start_time": "2024-10-31T11:14:00.028Z"
   },
   {
    "duration": 94,
    "start_time": "2024-10-31T11:14:00.040Z"
   },
   {
    "duration": 163,
    "start_time": "2024-10-31T11:14:00.136Z"
   },
   {
    "duration": 7,
    "start_time": "2024-10-31T11:14:00.301Z"
   },
   {
    "duration": 4,
    "start_time": "2024-10-31T11:14:00.623Z"
   },
   {
    "duration": 4,
    "start_time": "2024-10-31T11:14:00.808Z"
   },
   {
    "duration": 2333,
    "start_time": "2024-10-31T11:14:01.000Z"
   },
   {
    "duration": 4,
    "start_time": "2024-10-31T11:14:03.335Z"
   },
   {
    "duration": 48,
    "start_time": "2024-10-31T11:14:03.341Z"
   },
   {
    "duration": 48,
    "start_time": "2024-10-31T11:14:03.391Z"
   },
   {
    "duration": 24,
    "start_time": "2024-10-31T11:14:03.440Z"
   },
   {
    "duration": 478,
    "start_time": "2024-10-31T11:14:04.137Z"
   },
   {
    "duration": 6952,
    "start_time": "2024-10-31T11:14:10.943Z"
   },
   {
    "duration": 484,
    "start_time": "2024-10-31T11:14:18.445Z"
   },
   {
    "duration": 2,
    "start_time": "2024-10-31T11:14:26.339Z"
   },
   {
    "duration": 576,
    "start_time": "2024-10-31T11:14:26.956Z"
   },
   {
    "duration": 4,
    "start_time": "2024-10-31T11:14:35.245Z"
   },
   {
    "duration": 475,
    "start_time": "2024-10-31T11:14:37.191Z"
   },
   {
    "duration": 354,
    "start_time": "2024-10-31T11:15:34.560Z"
   },
   {
    "duration": 562,
    "start_time": "2024-10-31T11:15:36.440Z"
   },
   {
    "duration": 6,
    "start_time": "2024-10-31T11:15:43.000Z"
   },
   {
    "duration": 471,
    "start_time": "2024-10-31T11:15:44.604Z"
   },
   {
    "duration": 1720,
    "start_time": "2024-10-31T11:16:23.963Z"
   },
   {
    "duration": 464,
    "start_time": "2024-10-31T11:16:29.103Z"
   },
   {
    "duration": 4,
    "start_time": "2024-10-31T11:16:43.188Z"
   },
   {
    "duration": 4,
    "start_time": "2024-10-31T11:16:44.830Z"
   },
   {
    "duration": 5219,
    "start_time": "2024-10-31T11:16:45.496Z"
   },
   {
    "duration": 5,
    "start_time": "2024-10-31T11:16:50.718Z"
   },
   {
    "duration": 728,
    "start_time": "2024-10-31T11:16:51.749Z"
   },
   {
    "duration": 5,
    "start_time": "2024-10-31T11:17:19.891Z"
   },
   {
    "duration": 2,
    "start_time": "2024-10-31T11:17:22.519Z"
   },
   {
    "duration": 6,
    "start_time": "2024-10-31T11:17:22.937Z"
   },
   {
    "duration": 430,
    "start_time": "2024-10-31T11:17:23.333Z"
   },
   {
    "duration": 6,
    "start_time": "2024-10-31T11:18:27.388Z"
   },
   {
    "duration": 281,
    "start_time": "2024-10-31T11:18:30.569Z"
   },
   {
    "duration": 4,
    "start_time": "2024-10-31T11:18:32.818Z"
   },
   {
    "duration": 3,
    "start_time": "2024-10-31T11:18:33.255Z"
   },
   {
    "duration": 5,
    "start_time": "2024-10-31T11:18:33.622Z"
   },
   {
    "duration": 700,
    "start_time": "2024-10-31T11:18:34.100Z"
   },
   {
    "duration": 6,
    "start_time": "2024-10-31T11:18:36.146Z"
   },
   {
    "duration": 6,
    "start_time": "2024-10-31T11:18:54.105Z"
   },
   {
    "duration": 1151,
    "start_time": "2024-10-31T11:18:54.441Z"
   },
   {
    "duration": 13,
    "start_time": "2024-10-31T11:18:55.595Z"
   },
   {
    "duration": 57,
    "start_time": "2024-10-31T11:18:55.610Z"
   },
   {
    "duration": 141,
    "start_time": "2024-10-31T11:18:55.670Z"
   },
   {
    "duration": 9,
    "start_time": "2024-10-31T11:18:55.813Z"
   },
   {
    "duration": 4,
    "start_time": "2024-10-31T11:18:56.006Z"
   },
   {
    "duration": 3,
    "start_time": "2024-10-31T11:18:56.217Z"
   },
   {
    "duration": 2390,
    "start_time": "2024-10-31T11:18:56.416Z"
   },
   {
    "duration": 5,
    "start_time": "2024-10-31T11:18:58.808Z"
   },
   {
    "duration": 4,
    "start_time": "2024-10-31T11:18:58.820Z"
   },
   {
    "duration": 7,
    "start_time": "2024-10-31T11:18:58.826Z"
   },
   {
    "duration": 10,
    "start_time": "2024-10-31T11:18:58.835Z"
   },
   {
    "duration": 5,
    "start_time": "2024-10-31T11:18:59.066Z"
   },
   {
    "duration": 7,
    "start_time": "2024-10-31T11:18:59.568Z"
   },
   {
    "duration": 691,
    "start_time": "2024-10-31T11:19:00.140Z"
   },
   {
    "duration": 6,
    "start_time": "2024-10-31T11:19:04.288Z"
   },
   {
    "duration": 2630,
    "start_time": "2024-10-31T13:04:58.327Z"
   },
   {
    "duration": 1942,
    "start_time": "2024-10-31T13:05:00.958Z"
   },
   {
    "duration": 3832,
    "start_time": "2024-10-31T13:05:02.903Z"
   },
   {
    "duration": 13,
    "start_time": "2024-10-31T13:05:06.737Z"
   },
   {
    "duration": 52,
    "start_time": "2024-10-31T13:05:06.752Z"
   },
   {
    "duration": 124,
    "start_time": "2024-10-31T13:05:06.806Z"
   },
   {
    "duration": 7,
    "start_time": "2024-10-31T13:05:06.932Z"
   },
   {
    "duration": 10,
    "start_time": "2024-10-31T13:05:06.940Z"
   },
   {
    "duration": 9,
    "start_time": "2024-10-31T13:05:06.952Z"
   },
   {
    "duration": 2257,
    "start_time": "2024-10-31T13:05:06.964Z"
   },
   {
    "duration": 4,
    "start_time": "2024-10-31T13:05:09.222Z"
   },
   {
    "duration": 51,
    "start_time": "2024-10-31T13:05:09.228Z"
   },
   {
    "duration": 21,
    "start_time": "2024-10-31T13:05:09.281Z"
   },
   {
    "duration": 528,
    "start_time": "2024-10-31T13:05:09.304Z"
   },
   {
    "duration": 0,
    "start_time": "2024-10-31T13:05:09.834Z"
   },
   {
    "duration": 0,
    "start_time": "2024-10-31T13:05:09.835Z"
   },
   {
    "duration": 0,
    "start_time": "2024-10-31T13:05:09.837Z"
   },
   {
    "duration": 0,
    "start_time": "2024-10-31T13:05:09.838Z"
   },
   {
    "duration": 0,
    "start_time": "2024-10-31T13:05:09.839Z"
   },
   {
    "duration": 0,
    "start_time": "2024-10-31T13:05:09.840Z"
   },
   {
    "duration": 0,
    "start_time": "2024-10-31T13:05:09.841Z"
   },
   {
    "duration": 0,
    "start_time": "2024-10-31T13:05:09.842Z"
   },
   {
    "duration": 0,
    "start_time": "2024-10-31T13:05:09.844Z"
   },
   {
    "duration": 0,
    "start_time": "2024-10-31T13:05:09.845Z"
   },
   {
    "duration": 0,
    "start_time": "2024-10-31T13:05:09.846Z"
   },
   {
    "duration": 1,
    "start_time": "2024-10-31T13:05:09.846Z"
   },
   {
    "duration": 0,
    "start_time": "2024-10-31T13:05:09.848Z"
   },
   {
    "duration": 0,
    "start_time": "2024-10-31T13:05:09.849Z"
   },
   {
    "duration": 0,
    "start_time": "2024-10-31T13:05:09.850Z"
   },
   {
    "duration": 0,
    "start_time": "2024-10-31T13:05:09.851Z"
   },
   {
    "duration": 0,
    "start_time": "2024-10-31T13:05:09.852Z"
   },
   {
    "duration": 0,
    "start_time": "2024-10-31T13:05:09.853Z"
   },
   {
    "duration": 0,
    "start_time": "2024-10-31T13:05:09.854Z"
   },
   {
    "duration": 0,
    "start_time": "2024-10-31T13:05:09.855Z"
   },
   {
    "duration": 0,
    "start_time": "2024-10-31T13:05:09.856Z"
   },
   {
    "duration": 472,
    "start_time": "2024-10-31T13:05:43.932Z"
   },
   {
    "duration": 99996,
    "start_time": "2024-10-31T13:05:48.014Z"
   },
   {
    "duration": 4,
    "start_time": "2024-10-31T13:07:31.738Z"
   },
   {
    "duration": 192,
    "start_time": "2024-10-31T13:07:32.441Z"
   },
   {
    "duration": 201,
    "start_time": "2024-10-31T13:07:32.881Z"
   },
   {
    "duration": 11,
    "start_time": "2024-10-31T13:07:33.617Z"
   },
   {
    "duration": 33,
    "start_time": "2024-10-31T13:07:33.953Z"
   },
   {
    "duration": 23,
    "start_time": "2024-10-31T13:07:37.690Z"
   },
   {
    "duration": 4,
    "start_time": "2024-10-31T13:07:38.186Z"
   },
   {
    "duration": 6935,
    "start_time": "2024-10-31T13:07:38.642Z"
   },
   {
    "duration": 3,
    "start_time": "2024-10-31T13:07:45.578Z"
   },
   {
    "duration": 20,
    "start_time": "2024-10-31T13:07:45.583Z"
   },
   {
    "duration": 8,
    "start_time": "2024-10-31T13:07:45.605Z"
   },
   {
    "duration": 718842,
    "start_time": "2024-10-31T13:07:45.614Z"
   },
   {
    "duration": 3,
    "start_time": "2024-10-31T13:19:44.457Z"
   },
   {
    "duration": 8,
    "start_time": "2024-10-31T13:19:44.462Z"
   },
   {
    "duration": 9,
    "start_time": "2024-10-31T13:19:44.471Z"
   },
   {
    "duration": 8,
    "start_time": "2024-10-31T13:19:44.481Z"
   },
   {
    "duration": 3,
    "start_time": "2024-10-31T13:19:44.492Z"
   },
   {
    "duration": 2456,
    "start_time": "2024-10-31T14:29:20.714Z"
   },
   {
    "duration": 1809,
    "start_time": "2024-10-31T14:29:23.172Z"
   },
   {
    "duration": 1171,
    "start_time": "2024-10-31T14:29:24.982Z"
   },
   {
    "duration": 12,
    "start_time": "2024-10-31T14:29:26.155Z"
   },
   {
    "duration": 33,
    "start_time": "2024-10-31T14:29:26.168Z"
   },
   {
    "duration": 147,
    "start_time": "2024-10-31T14:29:26.221Z"
   },
   {
    "duration": 7,
    "start_time": "2024-10-31T14:29:26.370Z"
   },
   {
    "duration": 3,
    "start_time": "2024-10-31T14:29:26.379Z"
   },
   {
    "duration": 21,
    "start_time": "2024-10-31T14:29:26.383Z"
   },
   {
    "duration": 2326,
    "start_time": "2024-10-31T14:29:26.407Z"
   },
   {
    "duration": 5,
    "start_time": "2024-10-31T14:29:28.734Z"
   },
   {
    "duration": 21,
    "start_time": "2024-10-31T14:29:28.740Z"
   },
   {
    "duration": 5,
    "start_time": "2024-10-31T14:29:28.762Z"
   },
   {
    "duration": 105626,
    "start_time": "2024-10-31T14:29:28.768Z"
   },
   {
    "duration": 4,
    "start_time": "2024-10-31T14:31:14.396Z"
   },
   {
    "duration": 202,
    "start_time": "2024-10-31T14:31:14.401Z"
   },
   {
    "duration": 197,
    "start_time": "2024-10-31T14:31:14.605Z"
   },
   {
    "duration": 10,
    "start_time": "2024-10-31T14:31:14.804Z"
   },
   {
    "duration": 33,
    "start_time": "2024-10-31T14:31:14.816Z"
   },
   {
    "duration": 22,
    "start_time": "2024-10-31T14:31:14.851Z"
   },
   {
    "duration": 24,
    "start_time": "2024-10-31T14:31:14.875Z"
   },
   {
    "duration": 6948,
    "start_time": "2024-10-31T14:31:14.900Z"
   },
   {
    "duration": 2,
    "start_time": "2024-10-31T14:31:21.850Z"
   },
   {
    "duration": 46,
    "start_time": "2024-10-31T14:31:21.854Z"
   },
   {
    "duration": 35,
    "start_time": "2024-10-31T14:31:21.901Z"
   },
   {
    "duration": 700416,
    "start_time": "2024-10-31T14:31:21.937Z"
   },
   {
    "duration": 3,
    "start_time": "2024-10-31T14:43:02.354Z"
   },
   {
    "duration": 18,
    "start_time": "2024-10-31T14:43:02.360Z"
   },
   {
    "duration": 7,
    "start_time": "2024-10-31T14:43:02.379Z"
   },
   {
    "duration": 8,
    "start_time": "2024-10-31T14:43:02.388Z"
   },
   {
    "duration": 33,
    "start_time": "2024-10-31T14:43:02.397Z"
   },
   {
    "duration": 9392064,
    "start_time": "2024-10-31T14:43:02.431Z"
   },
   {
    "duration": 4,
    "start_time": "2024-10-31T17:19:34.497Z"
   },
   {
    "duration": 1324,
    "start_time": "2024-10-31T17:19:34.502Z"
   },
   {
    "duration": 12,
    "start_time": "2024-10-31T17:19:35.828Z"
   }
  ],
  "kernelspec": {
   "display_name": "Python 3 (ipykernel)",
   "language": "python",
   "name": "python3"
  },
  "language_info": {
   "codemirror_mode": {
    "name": "ipython",
    "version": 3
   },
   "file_extension": ".py",
   "mimetype": "text/x-python",
   "name": "python",
   "nbconvert_exporter": "python",
   "pygments_lexer": "ipython3",
   "version": "3.12.7"
  },
  "toc": {
   "base_numbering": 1,
   "nav_menu": {},
   "number_sections": true,
   "sideBar": true,
   "skip_h1_title": true,
   "title_cell": "Содержание",
   "title_sidebar": "Contents",
   "toc_cell": true,
   "toc_position": {
    "height": "calc(100% - 180px)",
    "left": "10px",
    "top": "150px",
    "width": "302.383px"
   },
   "toc_section_display": true,
   "toc_window_display": true
  }
 },
 "nbformat": 4,
 "nbformat_minor": 4
}
